{
  "nbformat": 4,
  "nbformat_minor": 0,
  "metadata": {
    "colab": {
      "provenance": [],
      "authorship_tag": "ABX9TyPIGQk2+1asMyRgpUkzXDG7",
      "include_colab_link": true
    },
    "kernelspec": {
      "name": "python3",
      "display_name": "Python 3"
    },
    "language_info": {
      "name": "python"
    }
  },
  "cells": [
    {
      "cell_type": "markdown",
      "metadata": {
        "id": "view-in-github",
        "colab_type": "text"
      },
      "source": [
        "<a href=\"https://colab.research.google.com/github/chetankhairnar05/Colab/blob/main/outliers.ipynb\" target=\"_parent\"><img src=\"https://colab.research.google.com/assets/colab-badge.svg\" alt=\"Open In Colab\"/></a>"
      ]
    },
    {
      "cell_type": "code",
      "execution_count": 2,
      "metadata": {
        "colab": {
          "base_uri": "https://localhost:8080/"
        },
        "id": "VSlSWYWVuYKK",
        "outputId": "c0461c40-4f24-465b-e946-a02eec09bb4e"
      },
      "outputs": [
        {
          "output_type": "stream",
          "name": "stdout",
          "text": [
            "[826, 902]\n"
          ]
        }
      ],
      "source": [
        "#we assume that value beyoun 3rd sd is outlier so we make a function to detect outliers\n",
        "import numpy as np\n",
        "datas = [11,12,45,45,76,23,775,826,25,46,56,82,14,45,82,247,45,752,25,74,28,25,387,25,3,27,29,59,541,902,23,128,3,11,1,1,323,2,432,5,3,21,11,2,1,24,5,6,4,32,2]\n",
        "outliers = []\n",
        "\n",
        "def detect_outliers(data):\n",
        "    threshold = 3\n",
        "    mean = np.mean(data)\n",
        "    std = np.std(data)\n",
        "    for i in data:\n",
        "      z_score = (i-mean)/std\n",
        "      if np.abs(z_score) > threshold:\n",
        "        outliers.append(i)\n",
        "    return outliers\n",
        "outlier_points = detect_outliers(datas)\n",
        "print(outlier_points )"
      ]
    },
    {
      "cell_type": "code",
      "source": [
        "# Calculate the Interquartile Range (IQR)\n",
        "Q1 = np.percentile(datas, 25)\n",
        "Q3 = np.percentile(datas, 75)\n",
        "IQR = Q3 - Q1\n",
        "\n",
        "print(f\"The first quartile (Q1) is: {Q1}\")\n",
        "print(f\"The third quartile (Q3) is: {Q3}\")\n",
        "print(f\"The Interquartile Range (IQR) is: {IQR}\")\n",
        "print(f\"lower fence is: {Q1-1.5*IQR}\")\n",
        "print(f\"upper fence is: {Q3+1.5*IQR}\")\n"
      ],
      "metadata": {
        "colab": {
          "base_uri": "https://localhost:8080/"
        },
        "id": "xvZ9H1OZvK0q",
        "outputId": "4786820f-f7f3-4bb4-a64b-10c4d7f2198b"
      },
      "execution_count": 4,
      "outputs": [
        {
          "output_type": "stream",
          "name": "stdout",
          "text": [
            "The first quartile (Q1) is: 8.5\n",
            "The third quartile (Q3) is: 75.0\n",
            "The Interquartile Range (IQR) is: 66.5\n",
            "lower fence is: -91.25\n",
            "upper fence is: 174.75\n"
          ]
        }
      ]
    },
    {
      "cell_type": "code",
      "source": [
        "import seaborn as sns\n",
        "sns.boxplot(datas)"
      ],
      "metadata": {
        "colab": {
          "base_uri": "https://localhost:8080/",
          "height": 428
        },
        "id": "A9_DSZlFxYs2",
        "outputId": "a6fadb94-714c-4150-85f7-76fc548e5204"
      },
      "execution_count": 5,
      "outputs": [
        {
          "output_type": "execute_result",
          "data": {
            "text/plain": [
              "<Axes: >"
            ]
          },
          "metadata": {},
          "execution_count": 5
        },
        {
          "output_type": "display_data",
          "data": {
            "text/plain": [
              "<Figure size 640x480 with 1 Axes>"
            ],
            "image/png": "[encoded data removed]"
          },
          "metadata": {}
        }
      ]
    },
    {
      "cell_type": "code",
      "source": [],
      "metadata": {
        "id": "lIpQ602px7Di"
      },
      "execution_count": null,
      "outputs": []
    }
  ]
}