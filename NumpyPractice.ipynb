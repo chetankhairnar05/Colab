{
  "nbformat": 4,
  "nbformat_minor": 0,
  "metadata": {
    "colab": {
      "provenance": [],
      "toc_visible": true,
      "authorship_tag": "ABX9TyPV+XZXQszxyOqzkChcMpMi",
      "include_colab_link": true
    },
    "kernelspec": {
      "name": "python3",
      "display_name": "Python 3"
    },
    "language_info": {
      "name": "python"
    }
  },
  "cells": [
    {
      "cell_type": "markdown",
      "metadata": {
        "id": "view-in-github",
        "colab_type": "text"
      },
      "source": [
        "<a href=\"https://colab.research.google.com/github/chetankhairnar05/Colab/blob/main/NumpyPractice.ipynb\" target=\"_parent\"><img src=\"https://colab.research.google.com/assets/colab-badge.svg\" alt=\"Open In Colab\"/></a>"
      ]
    },
    {
      "cell_type": "code",
      "execution_count": null,
      "metadata": {
        "colab": {
          "base_uri": "https://localhost:8080/"
        },
        "id": "5abLG7LQGoq3",
        "outputId": "c7306d9a-a865-412b-9f8d-75290b481130"
      },
      "outputs": [
        {
          "output_type": "stream",
          "name": "stdout",
          "text": [
            "[1, 2, 3, 4, 5]\n",
            "<class 'list'>\n",
            "[1 2 3 4 5]\n",
            "<class 'numpy.ndarray'>\n"
          ]
        }
      ],
      "source": [
        "import numpy as np\n",
        "l = [1,2,3,4,5]\n",
        "print(l)\n",
        "print(type(l))\n",
        "\n",
        "a = np.array(l)\n",
        "print(a)\n",
        "print(type(a))\n"
      ]
    },
    {
      "cell_type": "code",
      "source": [
        "b = np.array([[1,2,3,4,5],[5,6,7,8,9]])\n",
        "print(a.ndim)\n",
        "print(b.ndim)"
      ],
      "metadata": {
        "colab": {
          "base_uri": "https://localhost:8080/"
        },
        "id": "rmLBgjc8G7VC",
        "outputId": "1d83aca0-b1bb-4bb6-b64d-2eda660ae5f5"
      },
      "execution_count": null,
      "outputs": [
        {
          "output_type": "stream",
          "name": "stdout",
          "text": [
            "1\n",
            "2\n"
          ]
        }
      ]
    },
    {
      "cell_type": "code",
      "source": [
        "print(a.size, a.shape , a.dtype,sep = '   ')\n",
        "print(b.size, b.shape , b.dtype,sep = '   ')"
      ],
      "metadata": {
        "colab": {
          "base_uri": "https://localhost:8080/"
        },
        "id": "nDh4MBCEHKlz",
        "outputId": "e7b30292-ec93-4b19-c0a8-a902528f65fb"
      },
      "execution_count": null,
      "outputs": [
        {
          "output_type": "stream",
          "name": "stdout",
          "text": [
            "5   (5,)   int64\n",
            "10   (2, 5)   int64\n"
          ]
        }
      ]
    },
    {
      "cell_type": "code",
      "source": [
        "c = np.zeros([2,2],dtype = float)"
      ],
      "metadata": {
        "id": "A074bCkbHUA6"
      },
      "execution_count": null,
      "outputs": []
    },
    {
      "cell_type": "code",
      "source": [
        "c"
      ],
      "metadata": {
        "colab": {
          "base_uri": "https://localhost:8080/"
        },
        "id": "OVcKsiDHIEeZ",
        "outputId": "9812bb46-115c-4d54-fbef-61079897590d"
      },
      "execution_count": null,
      "outputs": [
        {
          "output_type": "execute_result",
          "data": {
            "text/plain": [
              "array([[0., 0.],\n",
              "       [0., 0.]])"
            ]
          },
          "metadata": {},
          "execution_count": 6
        }
      ]
    },
    {
      "cell_type": "code",
      "source": [
        "# d = np.ones([2],dtpe = int)# error\n",
        "d = np.ones(2,dtype = int)"
      ],
      "metadata": {
        "id": "nSavU1RWIGBI"
      },
      "execution_count": null,
      "outputs": []
    },
    {
      "cell_type": "code",
      "source": [
        "d"
      ],
      "metadata": {
        "colab": {
          "base_uri": "https://localhost:8080/"
        },
        "id": "KAmI0rVnINf4",
        "outputId": "603b840b-975d-445c-cbe8-4a9cdedc09ff"
      },
      "execution_count": null,
      "outputs": [
        {
          "output_type": "execute_result",
          "data": {
            "text/plain": [
              "array([1, 1])"
            ]
          },
          "metadata": {},
          "execution_count": 11
        }
      ]
    },
    {
      "cell_type": "code",
      "source": [
        "c = np.ones([3, 3])#default dtpe is float"
      ],
      "metadata": {
        "id": "eZp2I7tBIfht"
      },
      "execution_count": null,
      "outputs": []
    },
    {
      "cell_type": "code",
      "source": [
        "c"
      ],
      "metadata": {
        "colab": {
          "base_uri": "https://localhost:8080/"
        },
        "id": "JBWVCL2OInLa",
        "outputId": "461eec00-4fa9-4de5-cf15-cdef938fae29"
      },
      "execution_count": null,
      "outputs": [
        {
          "output_type": "execute_result",
          "data": {
            "text/plain": [
              "array([[1., 1., 1.],\n",
              "       [1., 1., 1.],\n",
              "       [1., 1., 1.]])"
            ]
          },
          "metadata": {},
          "execution_count": 14
        }
      ]
    },
    {
      "cell_type": "code",
      "source": [
        "array4 = np.arange(8).reshape(2, 2, 2)\n",
        "print(\"\\nOriginal array reshaped to 3D : \\n\",\n",
        "      array4)"
      ],
      "metadata": {
        "colab": {
          "base_uri": "https://localhost:8080/"
        },
        "id": "nQ6iwQzVIpf5",
        "outputId": "89552a92-f7f7-476a-fa03-26c0a3f1f5aa"
      },
      "execution_count": null,
      "outputs": [
        {
          "output_type": "stream",
          "name": "stdout",
          "text": [
            "\n",
            "Original array reshaped to 3D : \n",
            " [[[0 1]\n",
            "  [2 3]]\n",
            "\n",
            " [[4 5]\n",
            "  [6 7]]]\n"
          ]
        }
      ]
    },
    {
      "cell_type": "code",
      "source": [
        "a = np.array([1,2,3,4,5])"
      ],
      "metadata": {
        "id": "MLkuqcnVJ8I4"
      },
      "execution_count": 16,
      "outputs": []
    },
    {
      "cell_type": "code",
      "source": [
        "print (a)\n",
        "print(a[1])"
      ],
      "metadata": {
        "colab": {
          "base_uri": "https://localhost:8080/"
        },
        "id": "khRamKkreeJr",
        "outputId": "81d74dfc-e011-4fc7-d0f1-187f05b921f4"
      },
      "execution_count": 17,
      "outputs": [
        {
          "output_type": "stream",
          "name": "stdout",
          "text": [
            "[1 2 3 4 5]\n",
            "2\n"
          ]
        }
      ]
    },
    {
      "cell_type": "code",
      "source": [
        "a[1] = 56\n",
        "a"
      ],
      "metadata": {
        "colab": {
          "base_uri": "https://localhost:8080/"
        },
        "id": "viwyLOmQegkx",
        "outputId": "0b10fffd-21aa-4b7a-883e-1fcbf4b529f8"
      },
      "execution_count": 18,
      "outputs": [
        {
          "output_type": "execute_result",
          "data": {
            "text/plain": [
              "array([ 1, 56,  3,  4,  5])"
            ]
          },
          "metadata": {},
          "execution_count": 18
        }
      ]
    },
    {
      "cell_type": "code",
      "source": [
        "b = a[2:4]\n",
        "b"
      ],
      "metadata": {
        "colab": {
          "base_uri": "https://localhost:8080/"
        },
        "id": "W6RRoSmFelRm",
        "outputId": "02f4e9c7-ade8-4e4e-abfe-638fb44d959f"
      },
      "execution_count": 19,
      "outputs": [
        {
          "output_type": "execute_result",
          "data": {
            "text/plain": [
              "array([3, 4])"
            ]
          },
          "metadata": {},
          "execution_count": 19
        }
      ]
    },
    {
      "cell_type": "code",
      "source": [
        "# a[0, 2] => from matrix a find a[0][2] element it is only possible for 2d matrix of numpy not for 1d array so we need to convert 1d array into 2d matrix to use this\n",
        "# ex1 => convert into 1*find by itself\n",
        "arr_1d = np.array([1, 2, 3, 4])\n",
        "row_vector = arr_1d.reshape(1, -1) # -1 infers the dimension\n",
        "print(row_vector)\n",
        "    # Accessing elements using matrix notation\n",
        "print(row_vector[0, 2]) # Accesses the element at row 0, column 2 (value 3)\n",
        "\n"
      ],
      "metadata": {
        "colab": {
          "base_uri": "https://localhost:8080/"
        },
        "id": "m1U-dWeQesO-",
        "outputId": "6a74a7a6-15f0-4507-feb1-641dbf44d9a0"
      },
      "execution_count": 22,
      "outputs": [
        {
          "output_type": "stream",
          "name": "stdout",
          "text": [
            "[[1 2 3 4]]\n",
            "3\n"
          ]
        }
      ]
    },
    {
      "cell_type": "code",
      "source": [
        "# ex2: convert into find* 1 matrix\n",
        "a = np.array([1,2,3,4,5])\n",
        "b = a.reshape(-1,1)\n",
        "print(b)\n",
        "print(b[2,0])"
      ],
      "metadata": {
        "colab": {
          "base_uri": "https://localhost:8080/"
        },
        "id": "7P0R9jAGe2Kw",
        "outputId": "a9f3c9d9-e102-42d9-b2a2-3186b79a9134"
      },
      "execution_count": 23,
      "outputs": [
        {
          "output_type": "stream",
          "name": "stdout",
          "text": [
            "[[1]\n",
            " [2]\n",
            " [3]\n",
            " [4]\n",
            " [5]]\n",
            "3\n"
          ]
        }
      ]
    },
    {
      "cell_type": "markdown",
      "source": [],
      "metadata": {
        "id": "iyLRwV-dg6kj"
      }
    },
    {
      "cell_type": "code",
      "source": [
        "# a = np.array([1,2],[3,4,5]) # this generates error we need to follow matamatical rules\n",
        "c = np.array(((1.5, 2, 3), (4, 5, 6)))\n",
        "print(c)"
      ],
      "metadata": {
        "colab": {
          "base_uri": "https://localhost:8080/"
        },
        "id": "ceHwg5mNgkVA",
        "outputId": "1bbfebcc-0aa0-4874-de1d-2110b200dd31"
      },
      "execution_count": 25,
      "outputs": [
        {
          "output_type": "stream",
          "name": "stdout",
          "text": [
            "[[1.5 2.  3. ]\n",
            " [4.  5.  6. ]]\n"
          ]
        }
      ]
    },
    {
      "cell_type": "code",
      "source": [
        "a = np.array([[1, 2, 3, 4], [5, 6, 7, 8], [9, 10, 11, 12]])\n",
        "a[2,3] #we have 0 base indexing\n",
        "print(a[2,3])"
      ],
      "metadata": {
        "colab": {
          "base_uri": "https://localhost:8080/"
        },
        "id": "QIFO2UrkgsZQ",
        "outputId": "b8981437-d945-4864-f7ed-c58bd246db4e"
      },
      "execution_count": 27,
      "outputs": [
        {
          "output_type": "stream",
          "name": "stdout",
          "text": [
            "12\n"
          ]
        }
      ]
    },
    {
      "cell_type": "code",
      "source": [
        "from posixpath import sep\n",
        "# array attributes ndim, shape, size, and dtype\n",
        "print(a.shape , a.size, a.ndim , a.dtype,sep = '   ')"
      ],
      "metadata": {
        "colab": {
          "base_uri": "https://localhost:8080/"
        },
        "id": "lgbvGCLmhEtj",
        "outputId": "6e6edaa9-b6df-4c9a-9b9d-01873ea64023"
      },
      "execution_count": 29,
      "outputs": [
        {
          "output_type": "stream",
          "name": "stdout",
          "text": [
            "(3, 4)   12   2   int64\n"
          ]
        }
      ]
    },
    {
      "cell_type": "code",
      "source": [
        "np.zeros(2)# by default float"
      ],
      "metadata": {
        "colab": {
          "base_uri": "https://localhost:8080/"
        },
        "id": "EJ7Nfts2hZia",
        "outputId": "a8ad6389-9093-432a-bcd0-783100c7ab77"
      },
      "execution_count": 30,
      "outputs": [
        {
          "output_type": "execute_result",
          "data": {
            "text/plain": [
              "array([0., 0.])"
            ]
          },
          "metadata": {},
          "execution_count": 30
        }
      ]
    },
    {
      "cell_type": "code",
      "source": [
        "np.ones(4,dtype = int ) #can specify dtype"
      ],
      "metadata": {
        "colab": {
          "base_uri": "https://localhost:8080/"
        },
        "id": "lnAcNDlvhruP",
        "outputId": "1d4400c9-7924-428c-f759-28dc41cd9b05"
      },
      "execution_count": 32,
      "outputs": [
        {
          "output_type": "execute_result",
          "data": {
            "text/plain": [
              "array([1, 1, 1, 1])"
            ]
          },
          "metadata": {},
          "execution_count": 32
        }
      ]
    },
    {
      "cell_type": "code",
      "source": [
        "print(np.empty(4)) #function empty creates an array whose initial content is random\n",
        "print(np.empty(5,dtype= int))"
      ],
      "metadata": {
        "colab": {
          "base_uri": "https://localhost:8080/"
        },
        "id": "-ZgWKDeihtVT",
        "outputId": "4c2f76e9-1076-4a72-91ef-7814a725d377"
      },
      "execution_count": 34,
      "outputs": [
        {
          "output_type": "stream",
          "name": "stdout",
          "text": [
            "[1. 1. 1. 1.]\n",
            "[603365402         0 610693632 615013824        48]\n"
          ]
        }
      ]
    },
    {
      "cell_type": "code",
      "source": [
        "print(np.arange(4))# array form\n",
        "print(np.arange(2,10,2,dtype = float))#from 2 to 9 with difference 2"
      ],
      "metadata": {
        "colab": {
          "base_uri": "https://localhost:8080/"
        },
        "id": "nNIsfNdkh9pU",
        "outputId": "e3020c5d-944c-4f63-eb7d-f54eee493a09"
      },
      "execution_count": 36,
      "outputs": [
        {
          "output_type": "stream",
          "name": "stdout",
          "text": [
            "[0 1 2 3]\n",
            "[2. 4. 6. 8.]\n"
          ]
        }
      ]
    },
    {
      "cell_type": "code",
      "source": [
        "np.linspace(0, 10, num=5,dtype = int) #from 0 to 10 total 5 numbers int type(int python like  roundoff)"
      ],
      "metadata": {
        "colab": {
          "base_uri": "https://localhost:8080/"
        },
        "id": "uRatVQPYjHWJ",
        "outputId": "803c49ff-fb4b-456a-8ab5-947c489effa0"
      },
      "execution_count": 37,
      "outputs": [
        {
          "output_type": "execute_result",
          "data": {
            "text/plain": [
              "array([ 0,  2,  5,  7, 10])"
            ]
          },
          "metadata": {},
          "execution_count": 37
        }
      ]
    },
    {
      "cell_type": "code",
      "source": [
        "np.linspace(0, 10, num=5) # by defau;t float dtype"
      ],
      "metadata": {
        "colab": {
          "base_uri": "https://localhost:8080/"
        },
        "id": "nYIC2i7UjVS0",
        "outputId": "1bfb2e46-733b-4100-8e5a-c0634027b8f7"
      },
      "execution_count": 38,
      "outputs": [
        {
          "output_type": "execute_result",
          "data": {
            "text/plain": [
              "array([ 0. ,  2.5,  5. ,  7.5, 10. ])"
            ]
          },
          "metadata": {},
          "execution_count": 38
        }
      ]
    },
    {
      "cell_type": "code",
      "source": [
        "print(np.linspace(-10, 0, num=5))\n",
        "print(np.linspace(-10, 0, num=5,dtype = np.int64)) #np has np.float64 np.int64 etc and may other dtypes as well"
      ],
      "metadata": {
        "colab": {
          "base_uri": "https://localhost:8080/"
        },
        "id": "vyXnRwfmkE1f",
        "outputId": "9afc12cb-faad-41df-f50b-18dafc3d3554"
      },
      "execution_count": 40,
      "outputs": [
        {
          "output_type": "stream",
          "name": "stdout",
          "text": [
            "[-10.   -7.5  -5.   -2.5   0. ]\n",
            "[-10  -8  -5  -3   0]\n"
          ]
        }
      ]
    },
    {
      "cell_type": "code",
      "source": [
        "arr = np.array([2, 1, 5, 3, 7, 4, 6, 8])\n",
        "print(np.sort(arr)) #return sorted nut do not modify\n",
        "print(arr)"
      ],
      "metadata": {
        "colab": {
          "base_uri": "https://localhost:8080/"
        },
        "id": "uQQBTxmgkmtA",
        "outputId": "3d22f657-a8d3-4ab6-ca8e-72ee27535282"
      },
      "execution_count": 41,
      "outputs": [
        {
          "output_type": "stream",
          "name": "stdout",
          "text": [
            "[1 2 3 4 5 6 7 8]\n",
            "[2 1 5 3 7 4 6 8]\n"
          ]
        }
      ]
    },
    {
      "cell_type": "code",
      "source": [
        "a = np.array([1, 2, 3, 4])\n",
        "b = np.array([5, 6, 7, 8])\n",
        "print(np.concatenate((a,b)),a,b,sep = '\\n')#use print(np.concatenate((a, b)))  # or [a, b]"
      ],
      "metadata": {
        "colab": {
          "base_uri": "https://localhost:8080/"
        },
        "id": "zrA3-8RDlD_V",
        "outputId": "2d5902b6-9ca7-4bcc-e149-cd6a460768ea"
      },
      "execution_count": 44,
      "outputs": [
        {
          "output_type": "stream",
          "name": "stdout",
          "text": [
            "[1 2 3 4 5 6 7 8]\n",
            "[1 2 3 4]\n",
            "[5 6 7 8]\n"
          ]
        }
      ]
    },
    {
      "cell_type": "code",
      "source": [
        "np.concatenate((a,b),axis = 0)"
      ],
      "metadata": {
        "colab": {
          "base_uri": "https://localhost:8080/"
        },
        "id": "Y0JfUIAKlwRv",
        "outputId": "14966f83-15dd-42a7-d209-c345400ec3f7"
      },
      "execution_count": 46,
      "outputs": [
        {
          "output_type": "execute_result",
          "data": {
            "text/plain": [
              "array([1, 2, 3, 4, 5, 6, 7, 8])"
            ]
          },
          "metadata": {},
          "execution_count": 46
        }
      ]
    },
    {
      "cell_type": "code",
      "source": [
        "a = [[1,2],[3,4]]\n",
        "b = [[5,6],[7,8]]\n",
        "print(np.concatenate((a,b),axis = 0)) # stack verticaly same number of column\n",
        "print(np.concatenate((a,b),axis = 1))# stack horizontally same number of rows\n"
      ],
      "metadata": {
        "colab": {
          "base_uri": "https://localhost:8080/"
        },
        "id": "IYPUv9URmnaD",
        "outputId": "d988623d-abe5-4fbe-a49d-f21d2cb03566"
      },
      "execution_count": 47,
      "outputs": [
        {
          "output_type": "stream",
          "name": "stdout",
          "text": [
            "[[1 2]\n",
            " [3 4]\n",
            " [5 6]\n",
            " [7 8]]\n",
            "[[1 2 5 6]\n",
            " [3 4 7 8]]\n"
          ]
        }
      ]
    },
    {
      "cell_type": "code",
      "source": [
        "# similarly you can make 3d array and then can use ndim , shape , size , dtype"
      ],
      "metadata": {
        "id": "t9u-4iP6nN4z"
      },
      "execution_count": 48,
      "outputs": []
    },
    {
      "cell_type": "code",
      "source": [
        "#reshape with a.reshape(a1,b1,c1,.. )or np.reshape(a,  (a1,b1,c1),order='C')\n",
        "#Yes, if you try to reshape a NumPy array into a shape that doesn't match the total number of elements, it will raise a ValueError.\n",
        "\n",
        "a = np.arange(6)\n",
        "print(a)\n",
        "\n",
        "print()\n",
        "\n",
        "b = a.reshape(3, 2)\n",
        "print(b)\n",
        "print()\n",
        "\n",
        "print(np.reshape(a, (1, 6), order='C'))# order can be C , A , F default is C"
      ],
      "metadata": {
        "colab": {
          "base_uri": "https://localhost:8080/"
        },
        "id": "QXgum0Mnn5zR",
        "outputId": "e45de345-2d95-4539-c9cf-58a649e3cdd3"
      },
      "execution_count": 52,
      "outputs": [
        {
          "output_type": "stream",
          "name": "stdout",
          "text": [
            "[0 1 2 3 4 5]\n",
            "\n",
            "[[0 1]\n",
            " [2 3]\n",
            " [4 5]]\n",
            "\n",
            "[[0 1 2 3 4 5]]\n"
          ]
        }
      ]
    },
    {
      "cell_type": "code",
      "source": [
        "#you can index and slice NumPy arrays in the same ways you can slice Python lists.\n"
      ],
      "metadata": {
        "id": "h2y1bn-ftNQz"
      },
      "execution_count": null,
      "outputs": []
    }
  ]
}