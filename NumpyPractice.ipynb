{
  "nbformat": 4,
  "nbformat_minor": 0,
  "metadata": {
    "colab": {
      "provenance": [],
      "toc_visible": true,
      "authorship_tag": "ABX9TyPMystw7qUbX0hOmag82uBn",
      "include_colab_link": true
    },
    "kernelspec": {
      "name": "python3",
      "display_name": "Python 3"
    },
    "language_info": {
      "name": "python"
    }
  },
  "cells": [
    {
      "cell_type": "markdown",
      "metadata": {
        "id": "view-in-github",
        "colab_type": "text"
      },
      "source": [
        "<a href=\"https://colab.research.google.com/github/chetankhairnar05/Colab/blob/main/NumpyPractice.ipynb\" target=\"_parent\"><img src=\"https://colab.research.google.com/assets/colab-badge.svg\" alt=\"Open In Colab\"/></a>"
      ]
    },
    {
      "cell_type": "code",
      "execution_count": null,
      "metadata": {
        "colab": {
          "base_uri": "https://localhost:8080/"
        },
        "id": "5abLG7LQGoq3",
        "outputId": "c7306d9a-a865-412b-9f8d-75290b481130"
      },
      "outputs": [
        {
          "output_type": "stream",
          "name": "stdout",
          "text": [
            "[1, 2, 3, 4, 5]\n",
            "<class 'list'>\n",
            "[1 2 3 4 5]\n",
            "<class 'numpy.ndarray'>\n"
          ]
        }
      ],
      "source": [
        "import numpy as np\n",
        "l = [1,2,3,4,5]\n",
        "print(l)\n",
        "print(type(l))\n",
        "\n",
        "a = np.array(l)\n",
        "print(a)\n",
        "print(type(a))\n"
      ]
    },
    {
      "cell_type": "code",
      "source": [
        "b = np.array([[1,2,3,4,5],[5,6,7,8,9]])\n",
        "print(a.ndim)\n",
        "print(b.ndim)"
      ],
      "metadata": {
        "colab": {
          "base_uri": "https://localhost:8080/"
        },
        "id": "rmLBgjc8G7VC",
        "outputId": "1d83aca0-b1bb-4bb6-b64d-2eda660ae5f5"
      },
      "execution_count": null,
      "outputs": [
        {
          "output_type": "stream",
          "name": "stdout",
          "text": [
            "1\n",
            "2\n"
          ]
        }
      ]
    },
    {
      "cell_type": "code",
      "source": [
        "print(a.size, a.shape , a.dtype,sep = '   ')\n",
        "print(b.size, b.shape , b.dtype,sep = '   ')"
      ],
      "metadata": {
        "colab": {
          "base_uri": "https://localhost:8080/"
        },
        "id": "nDh4MBCEHKlz",
        "outputId": "e7b30292-ec93-4b19-c0a8-a902528f65fb"
      },
      "execution_count": null,
      "outputs": [
        {
          "output_type": "stream",
          "name": "stdout",
          "text": [
            "5   (5,)   int64\n",
            "10   (2, 5)   int64\n"
          ]
        }
      ]
    },
    {
      "cell_type": "code",
      "source": [
        "c = np.zeros([2,2],dtype = float)"
      ],
      "metadata": {
        "id": "A074bCkbHUA6"
      },
      "execution_count": null,
      "outputs": []
    },
    {
      "cell_type": "code",
      "source": [
        "c"
      ],
      "metadata": {
        "colab": {
          "base_uri": "https://localhost:8080/"
        },
        "id": "OVcKsiDHIEeZ",
        "outputId": "9812bb46-115c-4d54-fbef-61079897590d"
      },
      "execution_count": null,
      "outputs": [
        {
          "output_type": "execute_result",
          "data": {
            "text/plain": [
              "array([[0., 0.],\n",
              "       [0., 0.]])"
            ]
          },
          "metadata": {},
          "execution_count": 6
        }
      ]
    },
    {
      "cell_type": "code",
      "source": [
        "# d = np.ones([2],dtpe = int)# error\n",
        "d = np.ones(2,dtype = int)"
      ],
      "metadata": {
        "id": "nSavU1RWIGBI"
      },
      "execution_count": null,
      "outputs": []
    },
    {
      "cell_type": "code",
      "source": [
        "d"
      ],
      "metadata": {
        "colab": {
          "base_uri": "https://localhost:8080/"
        },
        "id": "KAmI0rVnINf4",
        "outputId": "603b840b-975d-445c-cbe8-4a9cdedc09ff"
      },
      "execution_count": null,
      "outputs": [
        {
          "output_type": "execute_result",
          "data": {
            "text/plain": [
              "array([1, 1])"
            ]
          },
          "metadata": {},
          "execution_count": 11
        }
      ]
    },
    {
      "cell_type": "code",
      "source": [
        "c = np.ones([3, 3])#default dtpe is float"
      ],
      "metadata": {
        "id": "eZp2I7tBIfht"
      },
      "execution_count": null,
      "outputs": []
    },
    {
      "cell_type": "code",
      "source": [
        "c"
      ],
      "metadata": {
        "colab": {
          "base_uri": "https://localhost:8080/"
        },
        "id": "JBWVCL2OInLa",
        "outputId": "461eec00-4fa9-4de5-cf15-cdef938fae29"
      },
      "execution_count": null,
      "outputs": [
        {
          "output_type": "execute_result",
          "data": {
            "text/plain": [
              "array([[1., 1., 1.],\n",
              "       [1., 1., 1.],\n",
              "       [1., 1., 1.]])"
            ]
          },
          "metadata": {},
          "execution_count": 14
        }
      ]
    },
    {
      "cell_type": "code",
      "source": [
        "array4 = np.arange(8).reshape(2, 2, 2)\n",
        "print(\"\\nOriginal array reshaped to 3D : \\n\",\n",
        "      array4)"
      ],
      "metadata": {
        "colab": {
          "base_uri": "https://localhost:8080/"
        },
        "id": "nQ6iwQzVIpf5",
        "outputId": "89552a92-f7f7-476a-fa03-26c0a3f1f5aa"
      },
      "execution_count": null,
      "outputs": [
        {
          "output_type": "stream",
          "name": "stdout",
          "text": [
            "\n",
            "Original array reshaped to 3D : \n",
            " [[[0 1]\n",
            "  [2 3]]\n",
            "\n",
            " [[4 5]\n",
            "  [6 7]]]\n"
          ]
        }
      ]
    },
    {
      "cell_type": "code",
      "source": [
        "a = np.array([1,2,3,4,5])"
      ],
      "metadata": {
        "id": "MLkuqcnVJ8I4"
      },
      "execution_count": 16,
      "outputs": []
    },
    {
      "cell_type": "code",
      "source": [
        "print (a)\n",
        "print(a[1])"
      ],
      "metadata": {
        "colab": {
          "base_uri": "https://localhost:8080/"
        },
        "id": "khRamKkreeJr",
        "outputId": "81d74dfc-e011-4fc7-d0f1-187f05b921f4"
      },
      "execution_count": 17,
      "outputs": [
        {
          "output_type": "stream",
          "name": "stdout",
          "text": [
            "[1 2 3 4 5]\n",
            "2\n"
          ]
        }
      ]
    },
    {
      "cell_type": "code",
      "source": [
        "a[1] = 56\n",
        "a"
      ],
      "metadata": {
        "colab": {
          "base_uri": "https://localhost:8080/"
        },
        "id": "viwyLOmQegkx",
        "outputId": "0b10fffd-21aa-4b7a-883e-1fcbf4b529f8"
      },
      "execution_count": 18,
      "outputs": [
        {
          "output_type": "execute_result",
          "data": {
            "text/plain": [
              "array([ 1, 56,  3,  4,  5])"
            ]
          },
          "metadata": {},
          "execution_count": 18
        }
      ]
    },
    {
      "cell_type": "code",
      "source": [
        "b = a[2:4]\n",
        "b"
      ],
      "metadata": {
        "colab": {
          "base_uri": "https://localhost:8080/"
        },
        "id": "W6RRoSmFelRm",
        "outputId": "02f4e9c7-ade8-4e4e-abfe-638fb44d959f"
      },
      "execution_count": 19,
      "outputs": [
        {
          "output_type": "execute_result",
          "data": {
            "text/plain": [
              "array([3, 4])"
            ]
          },
          "metadata": {},
          "execution_count": 19
        }
      ]
    },
    {
      "cell_type": "code",
      "source": [
        "# a[0, 2] => from matrix a find a[0][2] element it is only possible for 2d matrix of numpy not for 1d array so we need to convert 1d array into 2d matrix to use this\n",
        "# ex1 => convert into 1*find by itself\n",
        "arr_1d = np.array([1, 2, 3, 4])\n",
        "row_vector = arr_1d.reshape(1, -1) # -1 infers the dimension\n",
        "print(row_vector)\n",
        "    # Accessing elements using matrix notation\n",
        "print(row_vector[0, 2]) # Accesses the element at row 0, column 2 (value 3)\n",
        "\n"
      ],
      "metadata": {
        "colab": {
          "base_uri": "https://localhost:8080/"
        },
        "id": "m1U-dWeQesO-",
        "outputId": "6a74a7a6-15f0-4507-feb1-641dbf44d9a0"
      },
      "execution_count": 22,
      "outputs": [
        {
          "output_type": "stream",
          "name": "stdout",
          "text": [
            "[[1 2 3 4]]\n",
            "3\n"
          ]
        }
      ]
    },
    {
      "cell_type": "code",
      "source": [
        "# ex2: convert into find* 1 matrix\n",
        "a = np.array([1,2,3,4,5])\n",
        "b = a.reshape(-1,1)\n",
        "print(b)\n",
        "print(b[2,0])"
      ],
      "metadata": {
        "colab": {
          "base_uri": "https://localhost:8080/"
        },
        "id": "7P0R9jAGe2Kw",
        "outputId": "a9f3c9d9-e102-42d9-b2a2-3186b79a9134"
      },
      "execution_count": 23,
      "outputs": [
        {
          "output_type": "stream",
          "name": "stdout",
          "text": [
            "[[1]\n",
            " [2]\n",
            " [3]\n",
            " [4]\n",
            " [5]]\n",
            "3\n"
          ]
        }
      ]
    },
    {
      "cell_type": "markdown",
      "source": [],
      "metadata": {
        "id": "iyLRwV-dg6kj"
      }
    },
    {
      "cell_type": "code",
      "source": [
        "# a = np.array([1,2],[3,4,5]) # this generates error we need to follow matamatical rules\n",
        "c = np.array(((1.5, 2, 3), (4, 5, 6)))\n",
        "print(c)"
      ],
      "metadata": {
        "colab": {
          "base_uri": "https://localhost:8080/"
        },
        "id": "ceHwg5mNgkVA",
        "outputId": "1bbfebcc-0aa0-4874-de1d-2110b200dd31"
      },
      "execution_count": 25,
      "outputs": [
        {
          "output_type": "stream",
          "name": "stdout",
          "text": [
            "[[1.5 2.  3. ]\n",
            " [4.  5.  6. ]]\n"
          ]
        }
      ]
    },
    {
      "cell_type": "code",
      "source": [
        "a = np.array([[1, 2, 3, 4], [5, 6, 7, 8], [9, 10, 11, 12]])\n",
        "a[2,3] #we have 0 base indexing\n",
        "print(a[2,3])"
      ],
      "metadata": {
        "colab": {
          "base_uri": "https://localhost:8080/"
        },
        "id": "QIFO2UrkgsZQ",
        "outputId": "b8981437-d945-4864-f7ed-c58bd246db4e"
      },
      "execution_count": 27,
      "outputs": [
        {
          "output_type": "stream",
          "name": "stdout",
          "text": [
            "12\n"
          ]
        }
      ]
    },
    {
      "cell_type": "code",
      "source": [
        "from posixpath import sep\n",
        "# array attributes ndim, shape, size, and dtype\n",
        "print(a.shape , a.size, a.ndim , a.dtype,sep = '   ')"
      ],
      "metadata": {
        "colab": {
          "base_uri": "https://localhost:8080/"
        },
        "id": "lgbvGCLmhEtj",
        "outputId": "6e6edaa9-b6df-4c9a-9b9d-01873ea64023"
      },
      "execution_count": 29,
      "outputs": [
        {
          "output_type": "stream",
          "name": "stdout",
          "text": [
            "(3, 4)   12   2   int64\n"
          ]
        }
      ]
    },
    {
      "cell_type": "code",
      "source": [
        "np.zeros(2)# by default float"
      ],
      "metadata": {
        "colab": {
          "base_uri": "https://localhost:8080/"
        },
        "id": "EJ7Nfts2hZia",
        "outputId": "a8ad6389-9093-432a-bcd0-783100c7ab77"
      },
      "execution_count": 30,
      "outputs": [
        {
          "output_type": "execute_result",
          "data": {
            "text/plain": [
              "array([0., 0.])"
            ]
          },
          "metadata": {},
          "execution_count": 30
        }
      ]
    },
    {
      "cell_type": "code",
      "source": [
        "np.ones(4,dtype = int ) #can specify dtype"
      ],
      "metadata": {
        "colab": {
          "base_uri": "https://localhost:8080/"
        },
        "id": "lnAcNDlvhruP",
        "outputId": "1d4400c9-7924-428c-f759-28dc41cd9b05"
      },
      "execution_count": 32,
      "outputs": [
        {
          "output_type": "execute_result",
          "data": {
            "text/plain": [
              "array([1, 1, 1, 1])"
            ]
          },
          "metadata": {},
          "execution_count": 32
        }
      ]
    },
    {
      "cell_type": "code",
      "source": [
        "print(np.empty(4)) #function empty creates an array whose initial content is random\n",
        "print(np.empty(5,dtype= int))"
      ],
      "metadata": {
        "colab": {
          "base_uri": "https://localhost:8080/"
        },
        "id": "-ZgWKDeihtVT",
        "outputId": "4c2f76e9-1076-4a72-91ef-7814a725d377"
      },
      "execution_count": 34,
      "outputs": [
        {
          "output_type": "stream",
          "name": "stdout",
          "text": [
            "[1. 1. 1. 1.]\n",
            "[603365402         0 610693632 615013824        48]\n"
          ]
        }
      ]
    },
    {
      "cell_type": "code",
      "source": [
        "print(np.arange(4))# array form\n",
        "print(np.arange(2,10,2,dtype = float))#from 2 to 9 with difference 2"
      ],
      "metadata": {
        "colab": {
          "base_uri": "https://localhost:8080/"
        },
        "id": "nNIsfNdkh9pU",
        "outputId": "e3020c5d-944c-4f63-eb7d-f54eee493a09"
      },
      "execution_count": 36,
      "outputs": [
        {
          "output_type": "stream",
          "name": "stdout",
          "text": [
            "[0 1 2 3]\n",
            "[2. 4. 6. 8.]\n"
          ]
        }
      ]
    },
    {
      "cell_type": "code",
      "source": [
        "np.linspace(0, 10, num=5,dtype = int) #from 0 to 10 total 5 numbers int type(int python like  roundoff)"
      ],
      "metadata": {
        "colab": {
          "base_uri": "https://localhost:8080/"
        },
        "id": "uRatVQPYjHWJ",
        "outputId": "803c49ff-fb4b-456a-8ab5-947c489effa0"
      },
      "execution_count": 37,
      "outputs": [
        {
          "output_type": "execute_result",
          "data": {
            "text/plain": [
              "array([ 0,  2,  5,  7, 10])"
            ]
          },
          "metadata": {},
          "execution_count": 37
        }
      ]
    },
    {
      "cell_type": "code",
      "source": [
        "np.linspace(0, 10, num=5) # by defau;t float dtype"
      ],
      "metadata": {
        "colab": {
          "base_uri": "https://localhost:8080/"
        },
        "id": "nYIC2i7UjVS0",
        "outputId": "1bfb2e46-733b-4100-8e5a-c0634027b8f7"
      },
      "execution_count": 38,
      "outputs": [
        {
          "output_type": "execute_result",
          "data": {
            "text/plain": [
              "array([ 0. ,  2.5,  5. ,  7.5, 10. ])"
            ]
          },
          "metadata": {},
          "execution_count": 38
        }
      ]
    },
    {
      "cell_type": "code",
      "source": [
        "print(np.linspace(-10, 0, num=5))\n",
        "print(np.linspace(-10, 0, num=5,dtype = np.int64)) #np has np.float64 np.int64 etc and may other dtypes as well"
      ],
      "metadata": {
        "colab": {
          "base_uri": "https://localhost:8080/"
        },
        "id": "vyXnRwfmkE1f",
        "outputId": "9afc12cb-faad-41df-f50b-18dafc3d3554"
      },
      "execution_count": 40,
      "outputs": [
        {
          "output_type": "stream",
          "name": "stdout",
          "text": [
            "[-10.   -7.5  -5.   -2.5   0. ]\n",
            "[-10  -8  -5  -3   0]\n"
          ]
        }
      ]
    },
    {
      "cell_type": "code",
      "source": [
        "arr = np.array([2, 1, 5, 3, 7, 4, 6, 8])\n",
        "print(np.sort(arr)) #return sorted nut do not modify\n",
        "print(arr)"
      ],
      "metadata": {
        "colab": {
          "base_uri": "https://localhost:8080/"
        },
        "id": "uQQBTxmgkmtA",
        "outputId": "3d22f657-a8d3-4ab6-ca8e-72ee27535282"
      },
      "execution_count": 41,
      "outputs": [
        {
          "output_type": "stream",
          "name": "stdout",
          "text": [
            "[1 2 3 4 5 6 7 8]\n",
            "[2 1 5 3 7 4 6 8]\n"
          ]
        }
      ]
    },
    {
      "cell_type": "code",
      "source": [
        "a = np.array([1, 2, 3, 4])\n",
        "b = np.array([5, 6, 7, 8])\n",
        "print(np.concatenate((a,b)),a,b,sep = '\\n')#use print(np.concatenate((a, b)))  # or [a, b]"
      ],
      "metadata": {
        "colab": {
          "base_uri": "https://localhost:8080/"
        },
        "id": "zrA3-8RDlD_V",
        "outputId": "2d5902b6-9ca7-4bcc-e149-cd6a460768ea"
      },
      "execution_count": 44,
      "outputs": [
        {
          "output_type": "stream",
          "name": "stdout",
          "text": [
            "[1 2 3 4 5 6 7 8]\n",
            "[1 2 3 4]\n",
            "[5 6 7 8]\n"
          ]
        }
      ]
    },
    {
      "cell_type": "code",
      "source": [
        "np.concatenate((a,b),axis = 0)"
      ],
      "metadata": {
        "colab": {
          "base_uri": "https://localhost:8080/"
        },
        "id": "Y0JfUIAKlwRv",
        "outputId": "14966f83-15dd-42a7-d209-c345400ec3f7"
      },
      "execution_count": 46,
      "outputs": [
        {
          "output_type": "execute_result",
          "data": {
            "text/plain": [
              "array([1, 2, 3, 4, 5, 6, 7, 8])"
            ]
          },
          "metadata": {},
          "execution_count": 46
        }
      ]
    },
    {
      "cell_type": "code",
      "source": [
        "a = [[1,2],[3,4]]\n",
        "b = [[5,6],[7,8]]\n",
        "print(np.concatenate((a,b),axis = 0)) # stack verticaly same number of column\n",
        "print(np.concatenate((a,b),axis = 1))# stack horizontally same number of rows\n"
      ],
      "metadata": {
        "colab": {
          "base_uri": "https://localhost:8080/"
        },
        "id": "IYPUv9URmnaD",
        "outputId": "d988623d-abe5-4fbe-a49d-f21d2cb03566"
      },
      "execution_count": 47,
      "outputs": [
        {
          "output_type": "stream",
          "name": "stdout",
          "text": [
            "[[1 2]\n",
            " [3 4]\n",
            " [5 6]\n",
            " [7 8]]\n",
            "[[1 2 5 6]\n",
            " [3 4 7 8]]\n"
          ]
        }
      ]
    },
    {
      "cell_type": "code",
      "source": [
        "# similarly you can make 3d array and then can use ndim , shape , size , dtype"
      ],
      "metadata": {
        "id": "t9u-4iP6nN4z"
      },
      "execution_count": 48,
      "outputs": []
    },
    {
      "cell_type": "code",
      "source": [
        "#reshape with a.reshape(a1,b1,c1,.. )or np.reshape(a,  (a1,b1,c1),order='C')\n",
        "#Yes, if you try to reshape a NumPy array into a shape that doesn't match the total number of elements, it will raise a ValueError.\n",
        "\n",
        "a = np.arange(6)\n",
        "print(a)\n",
        "\n",
        "print()\n",
        "\n",
        "b = a.reshape(3, 2)\n",
        "print(b)\n",
        "print()\n",
        "\n",
        "print(np.reshape(a, (1, 6), order='C'))# order can be C , A , F default is C"
      ],
      "metadata": {
        "colab": {
          "base_uri": "https://localhost:8080/"
        },
        "id": "QXgum0Mnn5zR",
        "outputId": "e45de345-2d95-4539-c9cf-58a649e3cdd3"
      },
      "execution_count": 52,
      "outputs": [
        {
          "output_type": "stream",
          "name": "stdout",
          "text": [
            "[0 1 2 3 4 5]\n",
            "\n",
            "[[0 1]\n",
            " [2 3]\n",
            " [4 5]]\n",
            "\n",
            "[[0 1 2 3 4 5]]\n"
          ]
        }
      ]
    },
    {
      "cell_type": "code",
      "source": [
        "#you can index and slice NumPy arrays in the same ways you can slice Python lists."
      ],
      "metadata": {
        "id": "h2y1bn-ftNQz"
      },
      "execution_count": 53,
      "outputs": []
    },
    {
      "cell_type": "code",
      "source": [
        "a = np.array([[1, 2, 3, 4], [5, 6, 7, 8], [9, 10, 11, 12]]) #2d matrix\n",
        "print(type(a))\n",
        "b = a[a>5]\n",
        "print(b)#1d array\n",
        "print(type(b))\n",
        "\n",
        "five_up = (a <= 5)\n",
        "print(a[five_up])#1d array\n",
        "\n"
      ],
      "metadata": {
        "colab": {
          "base_uri": "https://localhost:8080/"
        },
        "id": "d_qjW4Mkv2TA",
        "outputId": "c44effd2-dae3-4288-96a0-31a521401e43"
      },
      "execution_count": 54,
      "outputs": [
        {
          "output_type": "stream",
          "name": "stdout",
          "text": [
            "<class 'numpy.ndarray'>\n",
            "[ 6  7  8  9 10 11 12]\n",
            "<class 'numpy.ndarray'>\n",
            "[1 2 3 4 5]\n"
          ]
        }
      ]
    },
    {
      "cell_type": "code",
      "source": [
        "divisible_by_2 = a[a%2==0]\n",
        "print(divisible_by_2)\n",
        "\n",
        "c = a[(a > 2) & (a < 11)]\n",
        "print(c)\n",
        "\n",
        "\n",
        "five_up = (a > 5) | (a == 5) #2d array\n",
        "print(five_up)\n"
      ],
      "metadata": {
        "colab": {
          "base_uri": "https://localhost:8080/"
        },
        "id": "q4jcf2qywOun",
        "outputId": "01d140ce-7fef-4a09-d5b9-da048d4661a4"
      },
      "execution_count": 55,
      "outputs": [
        {
          "output_type": "stream",
          "name": "stdout",
          "text": [
            "[ 2  4  6  8 10 12]\n",
            "[ 3  4  5  6  7  8  9 10]\n",
            "[[False False False False]\n",
            " [ True  True  True  True]\n",
            " [ True  True  True  True]]\n"
          ]
        }
      ]
    },
    {
      "cell_type": "code",
      "source": [
        "b = np.nonzero(a < 5)\n",
        "print(b)\n",
        "#a tuple of arrays was returned: one for each dimension. The first array represents the row indices where these values are found,\n",
        "# and the second array represents the column indices where the values are found."
      ],
      "metadata": {
        "colab": {
          "base_uri": "https://localhost:8080/"
        },
        "id": "K0rrnZDewggE",
        "outputId": "514d261d-9949-4a7b-9f6f-569121937186"
      },
      "execution_count": 56,
      "outputs": [
        {
          "output_type": "stream",
          "name": "stdout",
          "text": [
            "(array([0, 0, 0, 0]), array([0, 1, 2, 3]))\n"
          ]
        }
      ]
    },
    {
      "cell_type": "code",
      "source": [
        "\n",
        "\n",
        "a = np.array([0, 2, 0, 4, 5])\n",
        "\n",
        "indices = np.nonzero(a)\n",
        "print(indices)       # (array([1, 3, 4]),)\n",
        "print(a[indices])    # [2 4 5]\n"
      ],
      "metadata": {
        "colab": {
          "base_uri": "https://localhost:8080/"
        },
        "id": "Es_mjFVlw63M",
        "outputId": "e52d1b7a-9b96-4865-b97d-3ef79891a868"
      },
      "execution_count": 57,
      "outputs": [
        {
          "output_type": "stream",
          "name": "stdout",
          "text": [
            "(array([1, 3, 4]),)\n",
            "[2 4 5]\n"
          ]
        }
      ]
    },
    {
      "cell_type": "code",
      "source": [
        "a1 = np.array([[1, 1],\n",
        "               [2, 2]])\n",
        "\n",
        "a2 = np.array([[3, 3],\n",
        "               [4, 4]])\n",
        "\n",
        "print(np.vstack((a1, a2)),end='\\n\\n')\n",
        "print(np.hstack((a1, a2)),end='\\n\\n')\n",
        "print(a1,end='\\n\\n')\n",
        "print(a2,end='\\n\\n')"
      ],
      "metadata": {
        "colab": {
          "base_uri": "https://localhost:8080/"
        },
        "id": "KIl48FS0xiRl",
        "outputId": "4ffba5aa-890a-4145-c1d4-23d751cc71cc"
      },
      "execution_count": 58,
      "outputs": [
        {
          "output_type": "stream",
          "name": "stdout",
          "text": [
            "[[1 1]\n",
            " [2 2]\n",
            " [3 3]\n",
            " [4 4]]\n",
            "\n",
            "[[1 1 3 3]\n",
            " [2 2 4 4]]\n",
            "\n",
            "[[1 1]\n",
            " [2 2]]\n",
            "\n",
            "[[3 3]\n",
            " [4 4]]\n",
            "\n"
          ]
        }
      ]
    },
    {
      "cell_type": "code",
      "source": [
        "x = np.arange(1, 25).reshape(2, 12)\n",
        "x"
      ],
      "metadata": {
        "colab": {
          "base_uri": "https://localhost:8080/"
        },
        "id": "nCilIvkAy0bo",
        "outputId": "fcbdd1aa-23ef-4579-9ff0-247aa5245ae4"
      },
      "execution_count": 59,
      "outputs": [
        {
          "output_type": "execute_result",
          "data": {
            "text/plain": [
              "array([[ 1,  2,  3,  4,  5,  6,  7,  8,  9, 10, 11, 12],\n",
              "       [13, 14, 15, 16, 17, 18, 19, 20, 21, 22, 23, 24]])"
            ]
          },
          "metadata": {},
          "execution_count": 59
        }
      ]
    },
    {
      "cell_type": "code",
      "source": [
        "# to convert\n",
        "# [\n",
        "#  array([[ 1,  2,  3,  4],\n",
        "#         [13, 14, 15, 16]]),\n",
        "\n",
        "#  array([[ 5,  6,  7,  8],\n",
        "#         [17, 18, 19, 20]]),\n",
        "\n",
        "#  array([[ 9, 10, 11, 12],\n",
        "#         [21, 22, 23, 24]])\n",
        "# ]\n",
        "\n",
        "b = np.hsplit(x, 3)\n",
        "print(b)"
      ],
      "metadata": {
        "colab": {
          "base_uri": "https://localhost:8080/"
        },
        "id": "5vpzLaMazFmM",
        "outputId": "0d10ba20-b332-4eed-c224-2864ed56a967"
      },
      "execution_count": 60,
      "outputs": [
        {
          "output_type": "stream",
          "name": "stdout",
          "text": [
            "[array([[ 1,  2,  3,  4],\n",
            "       [13, 14, 15, 16]]), array([[ 5,  6,  7,  8],\n",
            "       [17, 18, 19, 20]]), array([[ 9, 10, 11, 12],\n",
            "       [21, 22, 23, 24]])]\n"
          ]
        }
      ]
    },
    {
      "cell_type": "code",
      "source": [
        "c = np.hsplit(x, (3, 4))\n",
        "print(c)\n",
        "# [\n",
        "#  array([[ 1,  2,  3],\n",
        "#         [13, 14, 15]]),\n",
        "\n",
        "#  array([[ 4],\n",
        "#         [16]]),\n",
        "\n",
        "#  array([[ 5,  6,  7,  8,  9, 10, 11, 12],\n",
        "#         [17, 18, 19, 20, 21, 22, 23, 24]])\n",
        "# ]\n",
        "\n",
        "# Original: [0 1 2 | 3 | 4 5 6 7 8 9 10 11]\n",
        "# Split at:       ↑   ↑\n",
        "#                3   4\n",
        "\n"
      ],
      "metadata": {
        "colab": {
          "base_uri": "https://localhost:8080/"
        },
        "id": "wokvRFtzzKRP",
        "outputId": "13830684-2dbb-4476-e3ac-b24aa5c73836"
      },
      "execution_count": 61,
      "outputs": [
        {
          "output_type": "stream",
          "name": "stdout",
          "text": [
            "[array([[ 1,  2,  3],\n",
            "       [13, 14, 15]]), array([[ 4],\n",
            "       [16]]), array([[ 5,  6,  7,  8,  9, 10, 11, 12],\n",
            "       [17, 18, 19, 20, 21, 22, 23, 24]])]\n"
          ]
        }
      ]
    },
    {
      "cell_type": "code",
      "source": [
        "# a[start:stop:step] (with ::)\n",
        "# Example: a[::2] → every 2nd row\n",
        "\n",
        "# Example: a[:, ::-1] → reverse columns in every row\n",
        "\n",
        "# | Expression   | Meaning                        | Example (on `a`)                    |\n",
        "# | ------------ | ------------------------------ | ----------------------------------- |\n",
        "# | `a[i, :]`    | Row `i`, all columns           | `a[0, :]` → `[1 2 3]`               |\n",
        "# | `a[:, j]`    | Column `j`, all rows           | `a[:, 2]` → `[3 6 9]`               |\n",
        "# | `a[i:j, :]`  | Rows `i` to `j-1`, all columns | `a[0:2, :]` → `[[1 2 3],[4 5 6]]`   |\n",
        "# | `a[:, i:j]`  | Columns `i` to `j-1`, all rows | `a[:, 1:3]` → `[[2 3],[5 6],[8 9]]` |\n",
        "# | `a[::-1, :]` | Reverse rows                   | `[[7 8 9], [4 5 6], [1 2 3]]`       |\n",
        "# | `a[:, ::-1]` | Reverse columns                | `[[3 2 1], [6 5 4], [9 8 7]]`       |\n",
        "\n",
        "\n",
        "# : → everything\n",
        "\n",
        "# start:stop → from start to stop-1\n",
        "\n",
        "# ::step → skip every step\n",
        "\n",
        "# -1 → means reverse in Python\n",
        "\n"
      ],
      "metadata": {
        "id": "m3HydH9OznWf"
      },
      "execution_count": 62,
      "outputs": []
    },
    {
      "cell_type": "code",
      "source": [
        "# Arithmetic operations in NumPy work element-wise by default, which makes it very powerful and fast for array and matrix computations.\n",
        "# a = np.array([1, 2, 3])\n",
        "# b = np.array([4, 5, 6])\n",
        "\n",
        "# a + b  → [5, 7, 9]\n",
        "\n",
        "# a * b  → [4, 10, 18]\n",
        "# a - b  → [-3, -3, -3]\n",
        "\n",
        "# a / b  → [0.25, 0.4, 0.5]\n",
        "\n",
        "# a ** 2  → [1, 4, 9]\n",
        "\n",
        "# #broadcasting\n",
        "\n",
        "# a = np.array([1, 2, 3])\n",
        "# b = 2\n",
        "\n",
        "# a + b  → [3, 4, 5]   # b is broadcasted\n",
        "\n",
        "# #dot product\n",
        "# np.dot(A, B)         # or\n",
        "# A @ B                # Python 3.5+\n",
        "\n",
        "# A = np.array([[1, 2], [3, 4]])\n",
        "\n",
        "# A + 10  → [[11, 12], [13, 14]]\n",
        "# A * 2   → [[2, 4], [6, 8]]\n"
      ],
      "metadata": {
        "id": "bP7P34ZpA3Vx"
      },
      "execution_count": 63,
      "outputs": []
    },
    {
      "cell_type": "code",
      "source": [],
      "metadata": {
        "id": "drCX35OIBZ2Z"
      },
      "execution_count": null,
      "outputs": []
    },
    {
      "cell_type": "markdown",
      "source": [
        "Here’s a complete list of **commonly used NumPy statistical functions** for arrays and matrices:\n",
        "\n",
        "---\n",
        "\n",
        "## ✅ Basic Statistical Functions\n",
        "\n",
        "| Function       | Description              | Example        |\n",
        "| -------------- | ------------------------ | -------------- |\n",
        "| `np.sum(a)`    | Sum of all elements      | `np.sum(a)`    |\n",
        "| `np.mean(a)`   | Arithmetic mean          | `np.mean(a)`   |\n",
        "| `np.median(a)` | Median value             | `np.median(a)` |\n",
        "| `np.std(a)`    | Standard deviation       | `np.std(a)`    |\n",
        "| `np.var(a)`    | Variance                 | `np.var(a)`    |\n",
        "| `np.min(a)`    | Minimum value            | `np.min(a)`    |\n",
        "| `np.max(a)`    | Maximum value            | `np.max(a)`    |\n",
        "| `np.ptp(a)`    | Peak to peak (max - min) | `np.ptp(a)`    |\n",
        "| `np.prod(a)`   | Product of all elements  | `np.prod(a)`   |\n",
        "\n",
        "---\n",
        "\n",
        "## ✅ Index-related Functions\n",
        "\n",
        "| Function       | Description              | Example        |\n",
        "| -------------- | ------------------------ | -------------- |\n",
        "| `np.argmin(a)` | Index of minimum element | `np.argmin(a)` |\n",
        "| `np.argmax(a)` | Index of maximum element | `np.argmax(a)` |\n",
        "\n",
        "---\n",
        "\n",
        "## ✅ Percentile & Quantile\n",
        "\n",
        "| Function              | Description                | Example                |\n",
        "| --------------------- | -------------------------- | ---------------------- |\n",
        "| `np.percentile(a, q)` | q-th percentile (0 to 100) | `np.percentile(a, 75)` |\n",
        "| `np.quantile(a, q)`   | q-th quantile (0 to 1)     | `np.quantile(a, 0.75)` |\n",
        "\n",
        "---\n",
        "\n",
        "## ✅ Cumulative Operations\n",
        "\n",
        "| Function        | Description        | Example         |\n",
        "| --------------- | ------------------ | --------------- |\n",
        "| `np.cumsum(a)`  | Cumulative sum     | `np.cumsum(a)`  |\n",
        "| `np.cumprod(a)` | Cumulative product | `np.cumprod(a)` |\n",
        "\n",
        "---\n",
        "\n",
        "## ✅ Weighted Average\n",
        "\n",
        "| Function                   | Description      | Example                    |\n",
        "| -------------------------- | ---------------- | -------------------------- |\n",
        "| `np.average(a, weights=w)` | Weighted average | `np.average(a, weights=w)` |\n",
        "\n",
        "---\n",
        "\n",
        "## ✅ Axis-specific Usage\n",
        "\n",
        "Most functions support the `axis` parameter:\n",
        "\n",
        "```python\n",
        "np.sum(a, axis=0)  # column-wise sum\n",
        "np.mean(a, axis=1) # row-wise average\n",
        "```\n",
        "\n",
        "---\n",
        "\n",
        "### 🧠 Example\n",
        "\n",
        "```python\n",
        "a = np.array([[1, 2, 3],\n",
        "              [4, 5, 6]])\n",
        "\n",
        "np.mean(a)           # 3.5\n",
        "np.sum(a, axis=0)    # [5, 7, 9]\n",
        "np.max(a, axis=1)    # [3, 6]\n",
        "np.median(a)         # 3.5\n",
        "```\n",
        "\n",
        "---\n",
        "\n",
        "### ✅ Yes — **Most of the NumPy statistical functions support `axis=0` and `axis=1`**\n",
        "\n",
        "These arguments control **along which axis** the function is applied:\n",
        "\n",
        "---\n",
        "\n",
        "## 🔁 Meaning of Axis:\n",
        "\n",
        "| Axis     | Operation Direction           | Use Case               |\n",
        "| -------- | ----------------------------- | ---------------------- |\n",
        "| `axis=0` | **Column-wise** (down rows)   | Operate **per column** |\n",
        "| `axis=1` | **Row-wise** (across columns) | Operate **per row**    |\n",
        "\n",
        "---\n",
        "\n",
        "## ✅ Functions That Support `axis`\n",
        "\n",
        "| Function        | Description                     | `axis=0` ✅ | `axis=1` ✅ |\n",
        "| --------------- | ------------------------------- | ---------- | ---------- |\n",
        "| `np.sum`        | Sum                             | ✔️         | ✔️         |\n",
        "| `np.mean`       | Mean                            | ✔️         | ✔️         |\n",
        "| `np.median`     | Median                          | ✔️         | ✔️         |\n",
        "| `np.std`        | Standard deviation              | ✔️         | ✔️         |\n",
        "| `np.var`        | Variance                        | ✔️         | ✔️         |\n",
        "| `np.min`        | Minimum                         | ✔️         | ✔️         |\n",
        "| `np.max`        | Maximum                         | ✔️         | ✔️         |\n",
        "| `np.ptp`        | Peak-to-peak (max - min)        | ✔️         | ✔️         |\n",
        "| `np.prod`       | Product                         | ✔️         | ✔️         |\n",
        "| `np.cumsum`     | Cumulative sum                  | ✔️         | ✔️         |\n",
        "| `np.cumprod`    | Cumulative product              | ✔️         | ✔️         |\n",
        "| `np.percentile` | Percentile (with `axis=` param) | ✔️         | ✔️         |\n",
        "| `np.quantile`   | Quantile (with `axis=` param)   | ✔️         | ✔️         |\n",
        "\n",
        "> 🔸 `np.argmin` and `np.argmax` also support `axis` — they return **indices**.\n",
        "\n",
        "---\n",
        "\n",
        "## 🧪 Example\n",
        "\n",
        "```python\n",
        "a = np.array([[1, 2, 3],\n",
        "              [4, 5, 6]])\n",
        "\n",
        "np.sum(a, axis=0)  # ➜ [5 7 9]   (column-wise)\n",
        "np.sum(a, axis=1)  # ➜ [6 15]    (row-wise)\n",
        "\n",
        "np.max(a, axis=1)  # ➜ [3 6]     (max of each row)\n",
        "np.mean(a, axis=0) # ➜ [2.5 3.5 4.5]\n",
        "```\n",
        "\n",
        "---\n",
        "\n",
        "## 🧠 Summary\n",
        "\n",
        "You can use `axis=0` or `axis=1` in **almost all statistical functions** in NumPy to compute row-wise or column-wise results.\n",
        "\n",
        "Let me know if you want a diagram or visual cheat-sheet.\n",
        "\n",
        "\n",
        "\n"
      ],
      "metadata": {
        "id": "BDHyNanGJKO2"
      }
    },
    {
      "cell_type": "code",
      "source": [
        "b = np.array([[1, 1], [2, 2]])\n",
        "print(b.sum())\n",
        "print(b.sum(axis = 0))\n",
        "print(b.sum(axis = 1))"
      ],
      "metadata": {
        "colab": {
          "base_uri": "https://localhost:8080/"
        },
        "id": "HJjCX40gJbUk",
        "outputId": "a27c9a59-dc44-4a52-acab-0b3f4349d47e"
      },
      "execution_count": 64,
      "outputs": [
        {
          "output_type": "stream",
          "name": "stdout",
          "text": [
            "6\n",
            "[3 3]\n",
            "[2 4]\n"
          ]
        }
      ]
    },
    {
      "cell_type": "markdown",
      "source": [
        "![image.png](data:image/png;base64,iVBORw0KGgoAAAANSUhEUgAAAqEAAADLCAYAAABeUkpLAAAAAXNSR0IArs4c6QAAAARnQU1BAACxjwv8YQUAAAAJcEhZcwAADsMAAA7DAcdvqGQAAJE1SURBVHhe7b13vCtHef//md1VOf2c23t3w7iD6WBjGxsbG9MCX0pCCaRBIIQkX/INiROSH4EACR3TQ8cFMBgbbLDB4N7r7b2f3iVtmef3x+5Kq52RNJL26OjeO+/7OlfSZz8782h39tnRlllGRASNRqPRaDQajaaFGHGhUdqpJ6sSi4qnVajEouJpFSqxqHiSQKUeFU+rUIlFxdMqVGJR8bSKYy0WFU+rUIlFxdMqVGJR8bSKYy0WFU+rUIlFxdMqjrVYVDxzBdNHQjUajUaj0Wg0rSaxI6EajUaj0Wg0Go0quhOq0Wg0Go1Go2k5uhOq0Wg0Go1Go2k5uhOq0Wg0Go1Go2k5uhOq0Wg0Go1Go2k5VTqh7XTTvEosKp5WoRKLiicJVOpR8bQKlVhUPK1CJRYVTxKo1KPiaRUqsah4WoVKLCqeVqESi4onCVTqUfG0CpVYVDytQiUWFU8SqNSj4mkVKrGoeFqFSiwqniRQqae6Rw/RpNFoNBqNRqNpOVWOhJZQ6aUm5UkClXqS8iSBSj0qniRQqScpTxKo1JOUJwlU6lHxtAqVWFQ8SaBST1KeJFCpJylPEqjUo+JJApV6kvIkgUo9SXmSQKUeFU8SqNSTlCcJVOpJypMEKvWoeOYKfSRUo9FoNBqNRtNylI6EajQajUaj0Wg0SaI7oRqNRqPRaDSalqM7oRqNRqPRaDSalqM7oRqNRqPRaDSallPqhEpuTxIkQZBKc4JQjyBIJEGYIyT1CJIgSCRBmCMk9QiSIEil1iCpWJAEQSo1j6RQQRIEiSQIc4SkHkESBKnUGiQVC5IgSKXmkRQqSIIgkQRhjpDUI0iCIJVag6RiQRIEqdQ8kkIFSRAkkiDMEZJ6BEkQpFJrkFQsSIIglZpHUqggCYJEEoQ5QlKPIAmCVGoNkooFKSLou+M1Go1Go9FoNC1Hn47XaDQajUaj0bScxDqhKodTVTxJoFKPiqdVqMSi4mkVKrGoeFrFsRaLiqdVqMSi4mkVx1osKp5WoRKLiqdVqMSi4kkClXpUPK1CJRYVT6tQiUXFkwQq9ah4WoVKLCqeuUKfjtdoNBqNRqPRtJzEjoRqNBqNRqPRaDSq6E6oRqPRaDQajabl6E6oRqPRaDQajabl6E6oRqPRaDQajablJD9YvSA0gKQMQRIEiSQIEkkQGkBShiAJgkQShDlCUo8gCYJEEoQGkJQhSIIgkQRBIglCA0jKECRBkEiCIJWaR1KoIAmCRBKEBpCUIUiCIJEEQSIJQgNIyhAkQZBIgiCVmkdSqCAJgkQShAaQlCFIgiCRBEEiCUIDSMoQJEGQSIIglZpHUqggCYJEEoQGUClD4hEkQZBIgtAAkjIESRAkkiBIpeaRFCpIgiCRBEEqVUdlBolHkCKCvjteo9FoNBqNRtNy9Ol4jUaj0Wg0Gk3L0UdC64AAPD00i8MzNk4ayGJNbwYGY3FbRQiAulszXzge4b5DU3A54fzl3ehKm3FLRcKNqdH1zDnH+MQE9u/bBxBgWRY2btqIbDZb9JDjgWYL4AUHRjYFo7sDMOqskQPk+a8wAWaWB207DrZv2w7HccAALF22FEuWLIFh6N+tjWJ7hCeGZjCWd/GshR1Y2ZOJWyrSbLsiIgwNDeHo0aPwPA/pdBobNmwob1ceBwoOyONgKRMsnVJvVwSQ64JyNqjgAGBg2RSMrmxZGbl8Hnv37EGhUIBhGFi8eAmWLl0CVkce1dSH4xEeH5zBSN7FC1Z0oydj1dWOmtlvERGmpqexb+9eeK4HwzCwYeMGdHZ2Ftc5eRw0WwDlbLC0BdaVAUtZ8aLkEECuB8rZ4HkbzGAwOjNg2RRQb67iANkAeQRmMbBU+WE627axY8dOOI4NxgwsX74MCxcu1DmxScxrrrnmmriokUNE+PRDR/Dv9x/CkqyFc5d1w1RMnkdmbHz1iUEcmLJx8kAHTNXkrmkpBCDncrzt1l344dZRvOmUAeWk7XDCbbsncPPOMfSkTCzuTEGxeRTxPA+bt2zF1776VWzdtg27du3E2eecg45sFowx8NkC8nc8jvHP3Yyp7/8OhYe2w+ztgrlyAZhiMuSTQOEpgr2NYG8D+BDBWsnAgtmJCPl8Ht/85jfx8MOP4L777kU2m8GmTZtgmuodck05OZfj/Xfsw7VPDOGMhR04bVFn3CLF9gi37h7HjdvHsL43je60WXenjYhw73334Uc/+hGefuYZ7Nm9G+eee67fCSWCs2cQ09fdjZmb7kfulw/DG5pE+tlrwCy19U2ui5kf34PJr9+Gqe/fhZlfPAT78V0gEFKrF4OZBsAYJicn8b3vfhf3P/AAHnroIfT09mDjxo11fx+NOn6724vPPT6It5yyAH1ZS3l533VgEj/aMoq0ASzpTDe039qzZy++9rWv4vHHH8fOXbtw1llnoaurC4wxkOsh/4dnMPG5mzH5nTuRv28rWEcGqRULwVK12x7ZDqZ/+HtMfuM2TH3/d8jd/iicrQdhDHTDHOiuo/0C9laO3H0E+2nAGyQY3YDRyYo98Fwuh29/5zu47/778dBDD2LBggVYvXq1zolNorbXOsHhBHicQATMOBwTNkfB8z8j6LhwIricfF9sfgJwZMbBR+87hO88PQybc8GDaBlUKlvTGsJ16AXLf8r2MGV7cHnEQ4AXrCMeW0EUHHH42c4xfPS+Q3hscAaytUyoXEY43XEdzM7O4hWXXIL3vve96Ovt9RO2x+HuPoLxL90KZ+8grKV9sJ/Zj5F//xG8Q2N+Q60FAd4YYG8leAcB9zDBHQXglSyMMXRks/jr970Pr3/965HP5+E4LvRJk8bg5K9rjwizLseE7aHglZYlwc8vldqEzQk3bhvFP999ELsn8vCodGQ0pFrbDLFtB7Zt4zVXX433vve96Orq8icQ4DyzD9M33Yf8wzuRe3gnnN1HQG6kUdSCEwqP7QafzsNavQjmol7kH92N8f/6CdyDI8W22dfbi7/6q7/CVVe9GoWCDcd2dLuaI8I25xFhxuUYL3A4kf0Txfc5sfkJwG/2TOBf7z2Iew5Oo+CJGa1mGURwXReFQgHnn38+3v/Xf42BgYFiJ9g9MIzxz90Me/shmIt64Ow+ivFP/RT25v1+o64BOR7yD2wFPELmjHUwFvZi9s4nMfKR78E9Og7wSAKvBAHObkLhEYBmAaMTcA8Ds78l8OlSDB0dHfirv/xLnHfeebBtG7Zt67abALoTWgWPCJMFD48cncFNO8awfSwPx+NlG0fe5dgzUcDvD0zh5h1juGXXGLYMzyLn+hvsaN7FY4Oz2D5egMMJY3kPjw3m8PhQDkOzLhAcQds9UcAfDkzj5p2juHXnGLaMzmLa9oSNWpM8DiccnbFx595J/Gr3OAZn3bIdOQXt4JmRHH69exw3bR/F7/ZNYv9kIfhxQtg7UcDjwzkM5Tw4nLBnsoBHjubw1HAOtucn52nbL+OOPRP42Y4x/HbfJPZP2WUdkihdXV3o7e2FZQWnpmwX09ffDT5TQPfVz8fCf38bMudtAp+cRf7ezf7p1FowwOgBOi9kyD6f+afhJZimid7eXvR0d+nTTQ1CBIzmXNx/aBq37BzD/kkbtseLR9WJgCnbw1PDOdy+Zxw/2z6KP+yfxMEpG7bn79j3TNp4bHAWQzkPBMK2sQIeOTqLp4ZzKLgcRMBEwcPTIzncHrTNu/ZNYv9UAa7kR4lhGOjo6EBPTw9SqZQvMsDasBSLPv4n6H3XJZVPhZK/0+dj0+ATs2WdVGaZGPjHP8Liz74Hi/7rHVj0X+9A18Vng0/n4Ty9FxR0BizLQnd3N7q7OmGaBsRui6ZZOBGGcw7u2j+JX+4ax4EpGy4nMJR+vcw6HNvH8rhj7wR+tn0Ud+6dwJ7xPHIuBydgcNbBQ0dncXDGhUeEA9MOHh3K4fHBXHG/lHP9Mu7cO4Gbto/iN3smsDsoI943Y4whnU6jv78f6XTaF4kw85N7wcdn0HnRWVj4b29B54VngHI2cr97qvxHkMfBJ2fBx2dAtlv8HixtYcE/vRGLPvUuLPy3t2DRf/4JjO4O8Mkc3N1H1XIiB5yd/uVJmXMYOi9gYB0A5QD3UMkW5sTOzk599DNB9N6lCrMOx2cfPoSX/vAZvO3WXbj8J1vx6OAsos16JOfi6p9sw6t/uh1v/9VuvOXW3XjJjzbjm08MweWEhw7P4PIfb8XbbtmJnMtx/9EZXHbjFlx+4xbcsmPEP7pqe3jVjVtx1U3b8PZf7cH/uWUXXn7dFnzp0UE4FToommTgBAzNOnjtT7fh8p9sw5tv2YU3/XwHZpxSIvU48PMdY7j0xi144y278K7b9uDVN23HhddtwZ5JGx4Bn3nkCK64cQt+tnMMsy7Hv99/GBddvxmv++lWzDgeOPmn6i+6bjPecPNOvPNXu/Hqm7bj4us2Y/NITu0gZt6Gs3sQzDKQPnMt+OQs7Kf2AgQUHtmp9qsfgLkAsFYwsKzOAHNJzuP4mzv34NIbt+JNt+zCFT/Zhv1TdrHb5RHhR5tHcNF1m/GmX+zCO2/fg8t/sh1X/Hgrjs46yLkc/3HvQVx24xbcvncCnID33rkPF1+/GW/46VZMOR48ItywZQSX3bgFb/rFLrzr9j248qbtuPi6LRjO+R2ImjCG9GlrkDlzPYy+LjCrQqMggrPrMAb/8ksY+uuvgI9MlX6QmwaMng6w7g7/Gr+CAz6VA8umYK1fhvh1KWFUTCE8TX1MFDy85eYduPKn2/GmX+zE627agdG86y/zYDXctX8Sl92w1c9Ft+/Ba3+2Ay/70Wbcf2gajsdxw9ZRXHTdM/ju5mE4HuFzjx3FK2/cgqt/sgVDsw44Ee7eP4VLb9iC1/58J/709j147c934MU/2Iz7Dk3DVslFnODsOgoAyJy1DuS4yD+6C8Q57M37QQX/IA0AUMHB8N9+A0PvuxbOzsMA+eWztAVz2QCMXv+6eJa2AMsATAOsIy20OxnkwT/iaQDWcoDbAJzg7MI4+dfNa+aMCtlG4xFh53ge//PoECyD4VMvW4O/O28ZNo/ly37lmQbDG09egOuv3IjbX3cyvn3ZehABn3z4MKYKLs5a0okfXL4RX7hwLTpMA+cu7sAPr9iIH1y+ERev7y+W84aTFuC6V23Eb153Cr5z2QaYjOEbTw9hZNYpVaZJHDtIuI8N57G2J43vXb4BpwykcWjGLTtK05cx8a8vWIWbXn0SbnvdyfiH81dg/5SNzz18CJyA95yxBN+7fCMuXduLDsvAB89dihuu3IivX7YBnSl/M+uwDHz0hX4Zv379Kfjw+StwZNbFVx47ClvhFzs5Hsh2/B1+OoWpH/wOmXM3AQaDe2hU7XS8pmU8cGgKN++eQFfKwBcvWoe/OHMxhnJu2fXFAxkT/33BWvzs6pPw69edgnc9ezF2T9r4yqNHwAD8zXnL8KMrNuKCVd0wGPDxF63EDVduwtcv24Du4Jq5hVkL//mS1bjp6pNw22tPxnvPXopdkzY+/cAh6dHQhiECCi7cgyNwD4+CnNIRqXA6H5rA0Hu/jKPv+B/kH9qG3j+5CKmNy/xrQiMUl4FCJ0GjDgG4ZecYHh7MoTdt4ksXrcNFa3qwbaxQ1u4yJsOHz1+OG6/chN+87hR87CWrMWVzXPvYUdiccOWmAdx45Ul4/UkDSBkMf3r6Ivzwio349uUbsbDDP4LemTLwt+ctw09fvQm//aNT8dkL12LC9vDVx49ixlHIZ54HnisAjMHozmLmx/cic9oaGJmU/wMnkhPJ9eAeHYd7eAyUs8XrUeAfLcg/sB18Ko/UigGk1i0R2p0UAsgBWMq/MSn/AMFa5TdNmlW6KkDTBKU1JCxoyYkSQZCg4qmFUIZKLCoedVxO2DVeQMHj2NCbxjvPWIy3P3sJXr66t+yG0YGsiQvW9OCOfZP4ypPDuGHbKDwijBc8DM06WNyZwgVrenHesi6kTYYlweeXrenBip4MGAN6MiZeuaEPd+6bwrVPDuG6baMoeBxTtodDM3Y0rAaQLARBUlt2giQIDSCUIQgSSS1eFQoe4cmhWZgM+PMzF+PyDQP45AXrsDBrFpO2aQAvW9OLDovhhm2j+PITQ7jv0BQA4JGjMwCA0xZ14II1vVjVk0baYHjWwg5cvLYPL17Vi4zJYDCGC9f2ojtl4Mbto7j2iUHcHdyBv3l0Fo5KZ4E4iBPgesg/uB3u4TH0vPHFYIZ/gb90IQiSZNkJlF83NndIShckSbyCMEcI9QiCRCrF+7v9Uyi4hKs29OM1Jw3gXWcuwakLskWHaTBcuqEftuvh+q2j+PITg3hyeBYu53h8aBYA8KxFHbhgTR9WdKfBwHDO0k5ctLYPL1rVg6xlwDQYXr6uD8QJN2wbxbVPDOGxwRkwAA8cnlL4XSJZvpVgDEZ/F7pecTa6LjoTrDMj3DZNnADP/yOXB9eWctmCAoTaJbEIglRqHqFQQZBIavHOCUI9fiweJzw+lIPLCW8/bSFee/IC/MsLV2FdX7psnheu6sWirIWbd43jy08M4jd7J+ARYeuYP+/qnjQuWdeHjX0ZmAbDSQNZXLimFy9d3YvejAmDMZy7rAtrezK4acc4Pv/oIG7fMwECsGU0p3AGL7jvIfAVHtkJZ9dRdF39PLDODMjz81lYCkuZ6Lzw2ei8+EwYA11CuwMnFJ7Zj7H/+BGYZWDgw2+AsaBH/iNHCM2/TIExwNlFMDoYrCXM7x1xFvgl67pVCBULgkSSxCsISSApVJCqx1LqhArrismk2qh4aiGUoRKLikcdImA2uCtlVXcaaZMhbTIs6yrdKV3wOL7/zDBe+eNt+Mwjg7hz3ySeGc77Ny0BKESv6xdi8eP1OOEHm4dx8Y1b8ZlHjuCOvZN4ZjiHnCspoyGEiiWS2rITJEFoAKEMQZBIavGqwIkw7XCYBsOpC7JgwS/8/kzpDuTRnIt33LoT77xtN763eQT3HZrGrvECOIBphQPVBIYZ2z9F9vbbduO7m0dwz0G/DJcTcrEDShUxDDDTAJ/OY/bXj6H3Ty4C0hbACUZnRp5wBUlcdvHPUY84LUkkpQuSGK8ozBFCPYIgkUrxjuVdMAas6E7DMvz80Zv2x8IiEMZyLq7+6Tb82W/24gdbR3H/oWnsm7ThcmAm2P4FiqJfy8isg7f+Ygfe/es9+H7QNvdMFMCJMOUIwUmQLN9KGAzW6sUY+PAfof9Dr4U5ENvJMwZrxQIs+eb7seyGf0D3lc/F7O2PY+bn94Ps8kQWfo3y2iWxCIJUah6hUEGQSGrxzglCPX4sRMC048FgwMkLsrAMhoxlYGlnChTM43qEv7p9N/74V7vw9aeG8fsDU/79DjVyUVTPORwfvmsf/ugXO/CNp4bwh4NT2DKag8cJs07lMkowMMbALANUcDDzq0fR/boXwhjoBojAsv6p9PBrso4M+t9/FQb+/nVIrVtaPvwSJ9jbDmL0I98FEbDoU+9A6uQVle+Mlyw7GACfBZz9QOYsAOFl0amwiUvWdasQKhYEiSSJVxCSQFKoIFWPReFY9YkJY0CXZYABGM55xbtXJwulOwRnbA/f3TwCMIYPnrcUD/3x6bjx1SdhQbbChf0xKLjz9WtPDsHhhA+etxQPvu103PDqk7Cqp3TxtmbuMBhDT9oILsYv3Sg2G7km9NC0jXsOz2AgY+EnV23C3W9+Fj7xsjXihhUhuto4EUbzLn57YApZ08BPrjoJ977ldPzXy1YjW+n6Owks44+7yNIWsi84Fekz1sI7MgHiBGv90rIOgeM4GBkZwejoKFy3dG2VDN3E5oZFHX4eGC/41266HMi5/sLmBOwcz+P+IzPosAzc8YZTcM9bTsffPmcZMma1llW+g98+lscDR2fRlzbxi9ecjD+8+Vn4lxeuAgPzb0SRzNMw5A+J4w2OwxuakN89zxiYaYBl08i+5HSAAYWHdla8VES3vWQxGNCdMkEAhnL+DZYeJ0yERzMImHY4fntgEgYDvnPZetz/1tNx7SvWFy/viFIcyim2nmYcD7/eNwXTYPjWpevxwFtPx3ev2FS89EgFZpkwersAxpA5ZyPS52wAH/NvPLKWLyzrRJLH4Q1Nwhuc8MehDRsO53D3DWL0X38AbjtY+J9/jPQpq8HCmzkj2LaN4eFhjI6NgUevWTUAo8N/m94IGF3MvxaUAKPbv1ZUM3foxVsBizGs6k7BMhh2TOZx36EpPHJ0Bnfsn4RHQUee+WmeiLAgawIE7JsqYDQv7vTTpgGTATvG89g6ksP+yQKmCx5YsEMiAIs7UiACDs/YODrr+Nu97OiWJjHSJsPGvgw8Tvj6k0PYNZ7H158cxGAuuJA/yL/+H6EvY8L2CLfsHhP2qwYDBtImXE548Mg0dozlcWjaLp6a8tMeYWGHibzLcdueCRQUrgUNYdk0suefBBgM3qFRuHuOYuIrtwKmgY6XPdu/biBgZGQEn/jEJ/DxT3wCI6NjZeV44wT3AOCN+Nf3Ux5wDxHcw/41UVHC766pn3OXdMIyGH69dwJbR/N45Mg0to3li9Mp2PYBQlfKRM7h+P3BKdicyg4VsKBdEQh37PPvQD407d9p768b/6hpZ8qAywm37RkPhgeLlFF8J4EIzs7DyN+3Fc6OQyDbhXd0AoUHt6Pw2C7QbCHwcTg7DuPoOz+LwT//IryhiWJnwBuawNQ3bkfh8d1w9gzC3X0E09f9HiCCuWxAGPS++KlqYJp6MRjDSf0ZmIzhW08N4ZnhWVy/dRg7JoJ1GCxvTgxEwMIOC7bnt5mZ6Hh0AYuDy5IeHZzB7vECDkwVMON4APNbXViGwYAfbxtBPviRpYTBkH3eSWBpC97gONy9g5j4/M9BjofMczcBmWD0BgCUK2Dor7+Co+/5ApxtB4s/arypPEau+SHcAyPovvK5oMlZFB7ajvz9W+ANjhfvjici7N27Dx/72MfwxS9+CYVCsDzgP6jD6PXHA+WTgDdKcHb408zFpXFCNXOD7oRWwDAYNi3owGs2DWDa4XjNz3bgrbfsRF/agBHsQDpTBv7PyQthGQz/+eARXHjdFrzjl7ukT1FamLWwqT+LA9MOLr1xKy6+fgtu3j4Ky2B45+mLkS6WsRlvu2VX9JpszRySNhlee/JCLOtK4cGhWVx43WZ8/cnh4HS871nVk8HpAxnkXI7X/XwnXnHDFty8cyK+X0XKYLh84wB60ia+9cwILvjRZlx541bkXY4FHSmcv6QTjgdcfdMOvOLGrfjx9rG68htLmei66nlIrVuK/CM7MfT+r8E9OIL0hqXInLW+7CJ8x3Ewm8v5yTZ6uIkAdw9h9k6OwqMEeADN+GPizd7FQbmSNaSeGDUlXrymD89d2oU9UzYuv3Er3nnb7uJRToMBJw104IwFWdge4fKfbMMlN2zBXQemhOWdMhguWdeHvrSJTz4yiAt+tAVX3bgV0zbHKQs6cHJfBgWP47U/24GLr9+CO/ZPwQx+ICvB/aFyRj7yPUxffzfI9WBv3o+Ra36A0f+4DnwqaBTB02n45Kyvebz4C4UcFzO/ehTDH/w6Bv/8ixh871eQf2A7rGUD6HnTS4VTo6XYlKPUKMAYcPnGAazsTmHPlIMrf7odH3vgMJYGR+UBoCtl4HlLO2EwhjffsguXXL8F33xqRNoZeNWmBVjcYeEnu8Zx8fVbcNn1WzGcc9FlmXj+sm6YDHjbrbvxoh9sxreeHvbXZ7wBV6HzsvOQPnUlnB2HMfy334C96yisJX3ouODZ5TcVeQQ+nQefyoGc0hF4mnX9m5UcF1Pf/z1G/vWHGP6n72Lkn74H++l9xZubiKg4/nKhUPohCPi9oMw5/vigzl5g5nYCFYDUGsBaWseX0TSEfmxnFVxOGJx1cOuucWwdmcWLV/VhoMPCkVkHZyzswKaBLGYcjj8cmMRDh6dhGQzPX9mDCZuDE+HiNX3oC35J2h5h/2QBT43kkHP9axDPXdyJDQNZzDgefrdvCg8enoLJgBes7MVMMM7oi1Z0Y3Fn6RehJnnyLsfmkRxu2TkGh3NcedJCHJiywQm4ZG0vspaBI9M2bts7iW0js1jfn8VzlnVj23geCzIWLl7XW3xy1ozj4bHBWRyeduAQocM0cNn6PqRNA4enbfxy9zh2jOWwri+Lc5Z2Yc+kjYGMiZet7kXaZHBcFw89/DCu/dKX8Na3vhXnnntu2Vih5LhwD4yg8MB2uPsGYZ20Ah0vPA3mot7i0SbOOZ5+5hl8+ctfxrPPPAvv/JM/RiZTekSkN0rg48VRToowKxi6Ke0/uWlqagrbtm/HtV/+Ml75ylfiqquuKo3xp6kJJ8KOsTx+tXscR2YcXLCmD25wDfJzl3ZhdW8a+yZs/GrPBHaPz+LUhV04ZYH/Q3VRh4WXrOxByvQ7k3mX4/5D0xjKOXA40J0ycMm6PqQNhoPTNm7bM4Hto7PYNNCJs5Z0YtdEAf0ZC5es7YVpMHDOcesvf4Vf3PxzvOUtb8Hpp5+Orq4uf6xQItjP7PcHlafoEVQC68gg+5xN/k1IRODjM8g/uB2wTHQ87+Tg5iQGytkoPLUX7s5D8AYnAMuEtW4pMs9eC3PFgmIn1HH8jsATTzyJ73//e7jiiitw+eWX67FoE8TlhO1jOfx8xzhmbBeXrB/AtONhvODhlev70Ju2MDjr4PY9E9g8PIPlPRmcv7wb+6ZsdFgGLl7bi0zQAXQ54ZGjMzgwbaPgEjIWw8vX9KE3bWA05+K2PRN4cmgGS7vSeNnqPuwYz6PDMvDytb3otAxwzvHM5i344he/gJe8+MV4xStegZ6enlIe4QT30CjyD26Du/MwrHVLkX3eKTCXD5Sfjrdd5O/dAnI9ZM5eDzO46YjP2ijcv9UfO7R49J8AZiB9xhpYS/oB04Drurj1l7/EL27+BS665BK85tVXlcZfhn+ayhslOAcINMNgLgWs5QxGZ2lz8DwP09PTuOWWW3DXXXfh6quvxoUXXqhzYpPoTmgNKPI0k4xpSM+Oe8F1NwCQMv3rSOuFE8HxCIbBYDEmrUczdxD5CZdA0nUYtgOPCCZjsOKHQRUJ25JlMBiGeMG267p45LHH8LWvfAWdnZ3o7u7GBz7wASxcuLDs+izyPP9XvmUKw5A4joPrb7gBDz30EN79nvfg1JNPVn5MH4KjBtMzM/jExz+O6elp5HI5XHrppbjiiit0wm0Ax/PblWX4oyTE8TjB4YRUhTahghs8Kcmo0DY557j917/BzT//GZhhYKC/H+//wAewYGAgbm0c8q/RC68VZSlLOA0/PDKCL3z+8xgbG4Prebjiistx2aWX1dU+NbWhoE0QESzDiK8GINhvubzUZiSWmhT3W4whJbmWmRNhy9ZtuPZLX4Tneeju7sb73/9+LFu2rGydk8f9fMaY3/kUi2qKfD6Pz372czh89Cg++Dd/g9WrVsYtPsGzaBgTzxNPTU3j05/+lN92XRevec1r8NKXvrT00AdNQ+hOqEbTRnDOMTQ0hGc2bwYApKwUzjnn7NIjFhVwXRd3/f73cFwPF7z0JWVHQVUpFAp48KGH4Tj+RaJr16zF2rVr9JNCjlGICPv27cOevfvAuYd0OoNzzj4LnZ1qz69PipnZWTzxxBPI5/NghoF1QbvSndDjEyLC2Ngonnp6MzzPhWEYOOfss9HT09PSdZ7P53H33Xejq6cX551zdkMdx0KhgIcfeQSFQgGMGdi4YT1WrFihc2KT6E6oRqPRaDQajablVLkQR6VvquJJApV6VDxJoFJPUp4kUKknKU8SqNSj4kkClXqS8iSBSj1JeZJApZ6kPLVQKSMpTxKo1JOUJwlU6knKkwQq9ah4kkClnqQ8SaBST1KeJFCpR8WTBCr1JOVJApV6qnv0kVCNRqPRaDQaTcupciS0hEovNSlPEqjUo+JpFSqxqHhahUosKp4kUKknKU8SqNSj4mkVKrGoeJJApZ6kPEmgUo+Kp1WoxKLiaRUqsah4kkClHhVPq1CJRcXTKlRiUfEkgUo9SXmSQKUeFc9coY+EajQajUaj0WhajtKRUI1Go9FoNBqNJkl0J1Sj0Wg0Go1G03J0J1Sj0Wg0Go1G03L0NaERyAb4JIEX/OfIGj0MLPJkr5ZBALkAOQTK+w+aNroJzGrd4L6a+iEOUI7AJ/yfd2YfwLIs8ad/qEAuAAfgeX/zNjqCWDTHHMQBPkugSf8RguaA/2jVlh9CIIA8gPL+s7VhAkY3dF46UeEALxD4mN8ujT7AyLLWt0sETzqyAZ4jgDOwLoKRmZ/cq6kP3QkNoDyQf4TD2e0nfWYC6ZMZMmcn1BGlyCOZa0A2kH+Uw93LwG2CkQK6XgkYvS3cuuuIdz5ou/A44B4i5O4n8NmwswB0nM9gLmptMiQPKDxOcHYTKOd3FrLnAemTK7SftluY5bR1eJLgJFLDkAe4+wm5B/yOHwNgLmLIvgAwehlYhVVakUaDI4DPAvkHONwj/o8clga6X8VgdDVSoJxGw2sJkuAkUvswh8ERB7yjQb6b8jWjC+i8gMHsY0ALHyJEHLC3EexnCDTrP3az86WAtcoAazSOOVx2c8KxFm+EKimsnfqmKrGoeCpAfgfC3u7vsNPr/Y3I3kLwjvC4WwFJLPU0EA54wwBMAgPAC742dzQZb8vxl0t74C87XiDkHiTwGSC1hsFcCHhDQP5JAnHJ8p1LCODDwXsD/lEr/3Heel03hdqyk0iNQf5Rx/wj/s41vcFvV85hgr2ZIuu0EmrxKuMC3ojf2YAbtKtE89Kxtq6PtXgTxAXyD/tHQa0VgLWCgY8BuXsI5EpiEVDxKELwj8YSgLTfLsmtpwqJUVh2Es+8IYlFiLedkMQboUontJ2+lUosKh455AHOXn9BZZ/jH/20FjOQA79jWn0ZSmg8FgBgKaDrIgNdFxkwFsSnzgXNxdt62ilePxZvCOCTgNHrt6HsWYF+FIDd2niZAXS8jKHrUgPmEmFqXGhz2ineFsdCgHsU4FOAuRDIns+QPouBAXD2AeTEZ4iTYLzMP/XedbmBzgsZ2Jyc6ky8wCZQiUXF0ypaGwsV/MuOjG6g4wUGMmcAZPgHT/i0yj4zuXiZAWTPY+i6zEBqFWvgmfQqfhVPq2inWFSoHm+VTmiJmu0pQU8SqNRT5vEAb4yBmf4pVD5JcA4SiFQ3qOYQijcBlgVYBmDM3+kInjlCpZ6kPEmgUk9SnmrwCb8QswcAD45ecQA24E2UfCr1NO0xgraTAZhROQFULSMgKU8SqNSTlCcJVOqp5iEK2hX3T73DI+TuJoD8y4doxn+fFDWLMgHWCbC036Yqt6zmqRlLgp4kUKknKU8SqNRT0UOAN+YfvDEX+J3AwuNBW/SYfwlQHUfIK9YToaqH+ZeGsM5Sj0a3zRIq9ah4kkBWj1InVGWFJuVJApV6yjzk/7ID86/HLDwOpNf4nVLy/J3BXFJ3vHOISj1JeZJApZ6kPNWggt+OWJrB2e1vWdYif6OjQqkBqdSTlKcWKmUk5UkClXqS8iSBSj1VPUFnEwQwCyhsBcw+BqPbn4vsClm9QarGElDyJFixhPpiqYyKJwlU6knKkwQq9VT0EEAzQUfTZHD2+DfQmn0MAPn7zPg8VahYT4R6PMTqqb1+6omlGiqeJFCpR8WTBLJ6lDqhJwTBnZ/2Dg7WRUit9WXZQpsP5naz0iSFN06wtxEyZwanLDHfK29eK9ckgH9ElOBsJXS8AIDVHuu0PaLQzBvMHw2ksJnQcT6DkQKoDXaYbRCCpg50JxR+q2Vp/8iCe5Ah8yzmJ1jyh0eq+xKThCG9YbU9LOWvKG8ISG30h9Eh1z+6zrJxdyvRLedYhYWnGQlwjgDp05g/zBb512Oy9Pyu3nmsWjOfhDmNAPcQYC1jMBb7I7kw5p9BnM+2oX8cHVvoTiiC8e4G/FNe6Y2A0QN4k35TNrr8joRGUw2jz9+ajB5/aC9w/055ZgXTNJp6YYDZD8ACzF6/XZFLoAKBpQDWpXuCmnmABdeCWv7d6JnTAdgEngdgkN9B1e1So4h5zTXXXBMXTzRYcKOns9e/4JqlGJzN/mmw7DkMZn9rtyiaBfIPcji7AG+YABvgkwzuAf/oh9E9F3emapqBZQF3t38jGzMBZ6c/nI21HEhvMuofz7EJqEDIP+DH4A7540vyGf9OfZommIt1+zkmYIDRweDsJniTAEtzFJ4ieGMMqY0MqeC69ZZAgDdKyD/ot3Nv1L98KcxLRm8wULluVycGBoN7wH+AAnmAd4TgHmEwB4DM6YZ/ZqhFkAcUHuOwtwLekfCmPcA77OdCo7+F24mmbkq7RskxbEESBIkkCA0gKUOQBEEiCYJUAhhgrWRIrWVgnCH/EIFsILWewVqpkFUlhQqSIEikQCCP4B4EnP0At/34nMMEZ19pYOCmECqWSIIgkQShASRlCJIgSCRBkEiC0ACSMgiAkWbIPt9/kk3hSX/dGV1A9lx/QHFhNkGQSg1BHHAOEJz9wWD1DODjgLOP4A4Gl5qUzRAXJJIgNICkDEESBIkkCBJJEBpAUoYgCYJEEgSpJCcNZM5jMDJA4REG7wiD2QNknu2fwSlDUqggCYJEEgRfIttvQ84Bf+QQBsA9SHD3EygXy5MVyqguSCRBkEiC0ACSMgRJECSSIEil5pEUKkiCIJEEQRELyD7PAOsGnO2AvY3B6GDofBkDS0mKFQSJJAgSSRB8zRv0h1nk0wQY/o8kZz/BHWbiPPHPMkkQJJIgSKXmkRQqSIIgkQShAVTKkHgEKSLoJyaFkJ9kvTF/EGiWYjD6g+uuWgw5AB8nkMsia4sBjGD2Mn8oCk3bQR7Apwg0468ro4f5A3u38CgowjhGyR+wmbHS8A4MYBn/aIXm2IE8/8Ykv6NHMPr9I6QtbVfF/IigPUVyk+HfGT2/1z5rWg738x2fBgD/0dJGd2uflgQED3cZJ1AhbJN+/gUBrIPB7G19DtaoozuhGo1Go9FoNJqWk9jvg2OtJ3usxdtOHGvLTsfbOO0Uiwo63hOHY23ZHWvxthPH2rI71uKdT/SRUI1Go9FoNBpNy0nsSKhGo9FoNBqNRqPKcXUklIjg8ToeWjvHEBGoiTFLorclJYHBGEyDgc336PttTDttDn579uNJIqp4e4p/rgUDYBoGjCrPo9eItFObald0Tmo9Huft0zYpGCqRtdf+qZ1iOV45bjqhRATHcfD0zj2wsgq3j1PQ6ueQmalJjHkpsHR2/sfPI0K3l8NzT12PTHoebvk/BiAiTE/PgDEGw2AwDMNPioYBBsDzPP+HRbDJFBMmAZwIAIFzDk5+h98wGBgLO20MRBxEQPjTxJ/fPxnhTwvnJyB4/8Teo5i1OurqLM4VhlvA89YvQ293l07OdVAoFECcQBDbTtjGeNAhCNc/cV6cVsxTsbZnGAaYYcAIpnPOi+UQ+U+vAfwnvlEwv+dxFAp5ZLNZGIZRrMMwjGB+P04E84fr2W+S0ekI5vc9jLFivX5dfthh+eG08PtxzoNtxJ/e0dHhf0dNy9i8bTtcKwtiLLJ7ouDnpir1+uUQ5+AzE1i/di1Ms5R3jaB9h23I8ziIogeawicahvnV9xiGfH7O/Twd3T4MI9J2wwNZRMhms0ilWjjg6QnKcdUJdV0P+0Ym0Nm/ID55XhgfGcZhLw0j2w2Ubeg+8c03/llGLY9sur9T4OiYHcU5KxcgnbJiDg2CNjQxOYn+vvZ4xJHrunho/ygKXQsgG+1etq7jyDxxLf5ZphEAlpvCeYuz6O7IRKZoalEoFJBKpWAY4jpsNUSEqalpdHd3t8URbSJCLpdHZ6fuhLaaXXv3IbNoOQxz/vcH3PMwc2Q/NqxdDcua/3j8zqzXFrEc71QZrD74RVsuCQiSIDSAUEaDscwHkrzOUBy2DIjGGfOyyLT4a4jMEyVefehhAIzwF6QwY4PLVxAaQFKGIAmCRBIEiSQIItyrcTmHUMYcLruIR2aXreu4L9ruSqL4MfQI3oDyWSq5aiCZTZAkgkQSECRBaAChjMZiadnvfKEaebyceNlJIJmnaVTKCDyl5SOPN44gCUIDSMoQJIkgkQQkUvMIhc5jLFHiSUmGiidAiFcQGkBShiBJBIkkIJGaRyi0wVgEoQFUypB4BCkilDqhQsMQj9yJgkQShAYQymgwlvlAWNoAMf8vjK/4GvFS8Bf9DrLPqKBV+hx6w/LLxCINLl9BaABJGYIkCBJJECSSIIiUn+qRIJQxh8su5omv2/hnWZHRdlcSy9/G2xlin+P1iG5FJLMJkkSQSAKCJAgNIJTRWCwEzPmlP4Ck4grxUuy6eZmnaVTKKHpKmU2YTRAkkiA0gKQMQZIIEklAIjWPUOg8xhJFTBYiKp4AIV5BaABJGYIkESSSgERqHqHQBmMRhAZQKUPiEaSIMP/nh+Ya4du3HhY84g4Vtr+wE1D0BB2HaOjxzkR8nqgW/YzQR4DkgY2aGKbZ6sd91KbedR1F1u6iWlm7k8wv0zT1YUguxZlP2q2Nh9edajTtRMvOYJzgHP+d0DZrRyrpNnqEVNqLiJdToVAVj6YEY6wtrwFSWY8V5CK1pkPRo6mfdrj2Mkq7tfF26xRrNIB/U51m7tFLuYVU6g9Hd1GCJxCq7sYUPASAM53sa9H2O0SFda1K1XYXkEQ9JzrhCAjtQru1cb2z12hOXPTWP9dEzmeq7NBlnkodhCLhECya4x/Fda3iiSJrd5rjE336W6Opjd5OWoPuhM41rHqPoMokdSLXnFajeHe8piJtfx2Q4rqu5VH5lioeTW3arU3xNnqgB9pw+Wg0mtbRvp1Qj4PyNvhMAeR48amtpdYevRoV8msoVytayVNtYkCFEI5viECOB5otgHI2EDx5qBau68altiGpdU212lTwWs1zwsI5KGf77crx/FHca9BunSzHceLSvNJOT7k7ZiEC5R2/XdquUrvUVKfdttvjlbbshJLjwh2axMQXbsbQ+7+CmZ89AD6Tn58Nq8aRTKDG3jo4fRrvQMhmiVfTiCc+HRGPd6JcE8oJfLaA/B82Y+hvv47Rf/s+3IOjIIUxQNt5h1jPug5pxBOfDonnRIRcD86+EYz95/UY/rtvIn/3FvCcPT95qQm8NotX7+ybhBPc4UmMf/onGPrbr2P2V4+CT+eBWvlOBVkyiNOwRyq2DbpdtoYqndD5WQHkcTg7j2Dor76MqRvvg7P1IMY+9ROM/NsPQYVqv+CTidd/8pIL13X801YqxUY9ku2KQT5YvaxjGk7jQRyOXYBjF+A6DojzMg8V/ysRnY7gPQW6SZWOKNf7JecSlXqqe3iugMmv/ArDH/kO7Kf2Iff7zTj6zs/AfmJP1cRMwePc6kPiJ78dRQfhbpZ61nUI9zy4tg3bLsBxbHieK3gQKyf+GlLeVONTG0WlHBVPCyCC/dguDP7FFzB7x5MoPL4bI9d8DxOf/0UsL4nx1t2kZDTUppLylENE/mNIi/GolFHZU2pblT2tRxKLIAnCHFGlHiK4h0Yw+Pb/wcytj8B+ci/GPn4Dxj5+o98RLTfHPitQYxbOORzbLp1Bkuz/gErlSMUItaaXI7ZLVeTe8oHV5J75QSUWFU8SqNRT3WNec80118RFn0qtaW6h2QKmf3wPCg9tR+eLn4UF//d1KDy0E86Ow0ifvBKpVYuACkOecE6YyBWQyjb2CDjOOaanpnD9D76H39z6C6xauxb9AwNxmzL53CymyQRLpYUmHRJq4WpiwcY0MzmO2677Lm674Xu477absfmRB7Biw8no7usVSpKVIUKw3DyW93bANOO/PeRzlKPiSQKVeqp4OMHZcxTjX7gFZm8nFv7LG2GtWoj8fdtAswV0vPhZYKnKR4Qd20Y2m43LVYh1z4hQKBQwNjYGzjnS6XTDF7hzznFoMgcv3VEc7FxlXTMArutg6yP346ffuhZ/+MVP8cgf7sTM6DDWnXo6mGEolwOUfiwx18aKLivBx77Kao2j4pl7yPUw8i/fh3d0Ar1vuwDdr3k+8g9sh7tnENkXnAJzUW/gFOP1uAfDNJtqB7O5WYyNjcEwDFiWpViW3OM6TqRdyj2VKBQKGBkZweTUJGZmZuC5HlLptMId7pXrcV03eEZ3ZU/rkcQiSIIwR1SphxMmvnAz7Cf3oft1L0Dvn1wEe/shONsPIfvcTbCW9EcelFBeztjEBKzOHrCa604kPFjz6MMP4Ttf/TJGR4ZxyrNOV2yXIkQEZ3oSA/19kbakVhYRIZfLYWxsrNguiQipVEoxHrmHQHXH0hpUYlHxJIFKPdU99be+ClTv66pDORv2E/vAsmn0/tllMFcu9K/DyjsoPLar9inVBink8/j2176CC88/Fx//l3/ED7/9TRw5fChuawgWWQ0U+SzTAMBxHfzm5zfhluu/j1Qqha7efux+5gn8+Suei93PPA1OXJgnJPq5rC4CjIpHQusjqXU9F5DrofDwblDBRfqMtcicsykImJB/dBf4bL7qF6i9M61MoZDHwYMHsWfPHoyOjmJmZiZuqVZ1EZmnnnUNAMNHj+Bz1/xfDB45jL4FC+EWCvj8NX+Pz374fXCDawLj81Rsm4o3Q7UDsmXXNETg0wW4h8fBOtLouvJ8GIv6AAJ4zoa7d6jq4U4GvwwZctWHiDAzM4N9+/Zh//79GB0dRaFQiNvqxjAM6ZEiUSmHc46DBw/CcRyYQad6aHgIR44cgec1nlvUOgoiteJtN+YiXp53kLtnK5Ay0XXFc2GuWujfT5GzkfvDM/71oQnDOceTTz+Dd775j/CWqy7Dd7/xVfzujt+AN9EGalFt2XHOceTIEbiu6/9AA8Phw4cxMjzSVLtshmrxtiPzGW/je9wYjaUREXJdeCMTMDozMDrSmPzfO4CgY8BHpoA5umbPcV384d778Z73fQBf/Ma3kU6nk1szkXJUllPKtHDRFa/CZ66/Be/+f/+Bd/zDNXj/J76AdLYDt/zo2yDPPy1fizKPygyKJFhU8nAO7+gIGAjmol44B0cw9ZP7wLJpwPXgDU1U7BCgyYG8HceFaZpYt24dOjrkR+NVlp2KJ058noWLl+DT1/8S//CpL+NP/u6f8Wf//J94+4c+gjt/diNGB49IH08aL+NYZE6+AwFwHFDehrWoB8QJU9f9AUZnBgDgHhiq+uO4Wier8hSfQqGAbDaL9evXN/UDKUqlNl4rFsMwsGbNGqxYsQJLlizB0qVLsWDBAszOzsJzG9/ZN/q9asXbbiQeLxFocgZku2CWCZZJYeq7vwXl/R+Z3t7BOdlfEicMHtiLJctW4Kbf/B5nnHnmnI+4UG3ZmaaJtWvXYvny5Vi8eDGWLluK3t5eTExOgFfZLueSavG2I/MZb2Nb/1zCKbibmcM9PIb8PVvQ+5aXAoyBHCe5jmGMjo4OfP6LX8Tb//Td6OzsCk5RJFhZ8Pz4uBZ58T0AmGGgZ2ARsp1dSGeySGey6OzuhZVKYXZsGFShVxstp4ygXM9IxSYch3D/qBVxAjyOyS/fir53XuSfLiUKjgxUXq+mVflUfS26urqwbNmyijv5plFc1wBgpTPo6OpCpqMDViaDdDaL1ZtOg+d58FwHFD26KWubAfG2eaJCHgdcDyxlIXf7Y4DH0XnJWWCm4e/0q/ywabiTxRgGBgawZMmS4pHHJDAtS9Jw1LAsC4ZhgDEGxpj/Yz245KBRGl0+GoAXgjvhGWA/uQfu/iF0XXU+WNoCz9nSI97NYlgmXnbRJfiPT3wSq9asQcqa//2KaZpl7TKTyYCIwCU/tjXtRftt/YyBWQb4TAHjn/kZ+t97BYwFPX7ONMxGc2dNTNNEtqMDqbTqdSSKhDmAYo/jjE6LfJbV7LkuRo4cQiGXwwuveH150ibJ/qRCuQZP/tRM28GYf82n66Hw0HZQzkbHhWf6C4AxMNOQLLASzZy+CRNgou0niuK6RtzGCXYhj9uv/w4GFi3BwOKlYNHrqmVtM06FtnmiwBgDDAZvbBozv3wEvW95mX8klDGwGk8gIsXhwWQwxhLvpHmuW7pMsAnCywVSqVRwTWdjzPVRtOMZP58BVHAw8c3foOetF8Lo7gCMIA/OAQxAKpVCtqMDphn5wZ1Am0oCIsLU1BQ6Ojrm7oCAJjGSzW4JwCwDRn83yHFh9HUi85xNcI9MAACMvs6KNyW1LU2G63kexkeH8YV//hBOP/tcnPvil4qPAVTZx50onQiD+Uc9GYM3lUff+64Es0z/aJVpwOjvqrogmjmt2BJU1nWMQj6He267FU89dC8+cu0PkMl2CDe3aWqQssAyKXij0+i48AxYqxfDHZ4GAJhL+qre3MGJIjeHzD/N/NAKISJMT09jZmYGCxYsaOpRoHNxtO7EgMHozgIpE+RxZM5Zj8wZ68BnbYAAc+lAsZMqI5kfy9F1l0R5zUFEmJiYgOM4WLBgQeI/4DTJ03ZriGXSSJ28AmAMmdNWg2YKyN+7Gcwykd60vHh96DFDlfxaZRIQHCGYGh/FdV/8NKZnZ/E3n/4qOru6y5JHrTIQeOhEOZ1qmUg/ew1YOgWjtxNGVwb2lgPg4zNIrV4Eo7+7aofAv+WrPVGJLO6x8zk8dd9d+O7nP4k3vO/D2PSsZ1ftMIXEyzmhYYDRmYY54Led1NrF8IYnUHhoG2CZsNYtrZqXCNQGu+cSPIFOXy6Xw9DQEAb6B9DdXZ6T6kV3QhuEAay7A+kNywAwZJ69Fnwqh8JjOwEAmeduAqpcXpT4ck+6vDoJfxgNDw9jyZIlyGazul0eA1TOnPME60ij46Wng6UtTF1/N4b/7hsoPLoL1uqFyL7otKq/7JIh1mgbb8M+wfwqzTnq4ZxjemIMN33ji3j6wXvwz5/9GgYWLxXKUdnGQgvFj6AehzDTQOqUVUifvhruwREMvf8rGPnI9wDTQNeV54OlK582ZGBgbZx46lnXAGAX8tj6xKP45if+DZe//o24/PVvCq4HLEflG6t4jlsYA8uk0XXFc8AsE+OfvRkjH/42vKFJpNYsQmrt4qp5opkd4ZzQZBu3bRuHDx9Gd3c3+sqG1NG0GmYa6HnzS2F0pDH+hVsx/IGvwn5iL6zVi5A5Y33NS0Vq0mZNtxL+ME2zOHr0KBYuXIju7u6m22XbbbfHKVXWUnOJqlFYykLm3I3o/4vLYS7pB5/KIXXSCiz4+9fBXOifZpXTfLzc8+A6DjzugTiHF3ymBK5ZYmGEkfDj34QhOGJJhNmpSfzk61/AXbfchPd/4ktYtHINPMcBDwYcLyL52vF6Qio/O15SiICKJwlU6qnuMXo60P83VyF9ykqAGTAHutHzhhei89JzwKwqTR4QL3WoSXksFBsoOf65KSTFVFrXjmPj4K4d+MJHPojnXHQ5XvXHfwbGDH94plg8qm2zhCSQhlApR8XTAgyGrje8CJ2XnwejpwNEQPqMtVj40bf4l3gUEeONL8t6ibcf9TYl95TvXOUeGUQE27axb98+dHV1FU93ElH5zZJSKk8vxVPZ03pUYlHxJEGVegyGzPNOQffrXghzSR+ICKlNy7Dg/74exkD80qMq5VSiwixEBM9z4TouPM5BnMN1Hf+BGEptMzkoGJv50KHD6OvrQ29vLxhjQRwqsSTlaRUqsah4kkClnuoeRq1uMapwAuVtUM4G6+sEq3JaAUFDdF0P+0Ym0Nm/ID65JkSEowcP4plHHsDTzzyDb3zlS/iL974fp556Ks547vMxsHhJfJaajI8M47CXhtHhn8YLb/4glPZMRS3oCbBgoPFbvv+/+N9P/isufsNb8KyzzvUHGGcMCwYW4LTnv8xP/vEygnKjN5kU73r2OLK5MZy7ciDBwcbbGPKH+6KZPGCZMLqyVX7AlMjlchWHV6oF59wfwNvzMDo6Csuy0NfXB8uy0NnZWfcva9d18dD+URS6FoCCX/Uq65oRMHzkED78lqvQNbAQr3z9/0FHdzcAwDQMnP3il6Ozp89P1JF2h2jbjGrh59wUzlucRXeHPzTRCQkn/xHCnIN1ZsAUtiXP84p37taL53nFNnX06FH09fWhs7MTmUwGmUym7jL9HXYemUz9pyo559izZw8451i4cGHxSBNjDJ2dnQ3dBEJEcILB8zVNQPDHQHZcsI6Mf8anxurdtXcfMouWw4jeXKSIXSjg0XvuwsjQID75X/+F5cuX4U/e/k4sWbESp5/3XKRSkfUZ5I9qcM/DzJH92LB2dd3tyHM97Nm7B6Zpor+/v9iuGWPo6upq+HplznnTR1M1tVHqhJLCr/mkPI3SdCeUc/zu9l/i//3dB2EXCsWtpqu7B5/6wpdx3vNfFJ+lJmEn1MxWvw4xvlzsQh4//+YXcOM3ry0OLA4imJaFU599Bv7fV66DVe/dqMTROTOEs1YtrtoJjcciIylPEqjUU4/HsR2kqpyyr4bruti3b59w40dHRwdWrlzpd/rqiCXaCUWdR2iP7N+Dj/7ZmzF0+FCx7THGYKVS+M/v/BQrN54MwyhPzrLYyrQKnVDZfHOBSj1JeZIgrKdaJ7RWLLZtY//+/cId5AMDAw3deEFE8FwPpiUO+VQrFs/zsHfvXqF9M8awbPkydHV2CWWq4Hme0FGoFQsS9CSBSj1JeZKAAOxuohM6PjaGP3vLG7Br544y/fkvfBE+9rkvo7u7p0yvRa1OaLXlUinvMsawatXKhn5wIXhMbtkoIqVJFWMJScqTBCr1qHjmCqVO6LFAs53QuaDRTqgMFU9ViKNzZhhnrVpUtRN6omPbdtsclWmmE5oUZe2uQidUU51qndBW4+fJ4MkybRKP53nSjodmbmnmSGjS1OqEzgdEvIHLszT1opdwKwhyvdDbl+wDBE+8I1DFUw0C4BqWtE5Nifiv6Xak1rpGzCP4Je2xkkc3l+aJH8Wcb9qtjbfb8tFoiAi8ifF9NeroTqgqje6NqbSHF4ogsYMpeCRa/HMlLQoDYPG5e+LU8YJt23Gp7ai1rlGrTUnao8yjm0oyJDEkUpLY4SU+bUK7dYo1DSIkEY2mNroTqkp0P6KysYWe+GuMCnLytNd+sC0hIhTs9tpBtwxJQ5RImgagJh5pORc4bdYJdXUndF4wJNc7KlFptrr3kSqm+UMfoW8NuhPaCCodurgn/lkuCah4ahEejG2vIbPbE6o4jNWxQc32UumhBTFR6tE0BOcUHxVrXkliyLlEaaeFcwLR8OlmldnKPBX2O3q9a8o6oZL2IEiCIJVag6RiidQ2qMQW9Sj7K2zfZbDQF5glhQuSIEil1iCpWJAEoTEaeZylULUgSCRBkBDx1LWuqyGpNypJJktQczWEpGhBEoR5RBKLKDGpmjiSKgSJ4uOESjytQlKxIAnCPCKJRZAEYY6Q1CNIgiCVqlMrnyhRd61FGp+zSSQVC5IgzBGSegRJEKRSa5BULEgRodQJlTQ2QRIEqdQaJBVLpLaAKuyG4vFGPeG0qEc6f0yMe4DSWJL+AEGSimWSIEil1iCpWJAEoTFSDYwcIFQtCBJJECREPPWu6yhxKV41q9HuRKpPbQpJ0YIkCPOIJJa41PBpz3qRVCNIDLAsq2xAccHTKoKKjchT8IRYBGEekcQiSIIwR0jqESRBkErViSePFlN3vEnBxB9rQiyCMEdI6hEkQZBKrUFSsSBFBH06vhUEp0DD5R5u17JXFryGfyHR+cPPtTxRHQRwPdxETdpleJA4da3ryPuoL5xWjyfq1TQGq3Msz7mm3dq4GRuvVqPRnDgklh1VdlYqnuMRFnn6DCI7/HgnIqqHf/Fp0c9FTzAx7glh8K8BNyiZGwBU1qOKJwlU6qnHk6r3IQB1Uk8sUepZ19H38c/R1/B9/HP0VQVZvHOBSj1JeZIgrMes0gltVSxRUqmUcJQHirGoeOql3gH3Q1RiUfEkgUo9Kp5W0U6xqKASr4qnHmTbCBTrUfG0CpVYVDxzRWNbvwT56ipHxZM4lSqt0MBaDqscokAlo3ILqlRAfaiUouJJApV66vHEn9ySNPXEIkV5XSeAYttU8SSBSj1JeZIgrIcZrOIOTa7OLZXauEosKp56abQTqhKLiicJVOpR8bSKdopFBZV4VTz10Mw2q+JpFSqxqHjmisa2/mOJSjvtVt6ZV2kNMz++qpFE72auYqwyCQimu0Z7nYZrRzyvze4cllBrXSMJT9A2Nc1Djd6FPEe0Wxs/Th7ap9FoGuC464QS0dz8QaIp/CHyKvxxfxqL65E/4qIW/6tYfuzP9NprfMB2w3+2e/vsEGXrVabF/2q1KSUP99t8XG+n5XMsEc8L8/nncU/Q5vVPt6l5geAfjBHWR6N/De4jo/NrTjyOq2fH246DR5/ZCiOViR3KiR/WCT/HD1GSf5qe4tOin2Vl+u/jc+VmZzDpmWBW2r85Ibqoi4f6/bn859SywOJr/umAUqmlZ9lSpGoGIip6/fdiXUQcPXDw/GefgkymPZ6N3m4QEYaGhpFOp2FZJhhjME2zeLrQdV1/zMdg4TPGYATrkYjgcQ7OOYhzGMF8ZvjM8GA9hdOZYcBgrFh2dH7ueX4/kHM8s/8IZsgstYEg1njrCwlbi6zFQjItTrVpzLPxvJPXoq+nu+KpKk05RISh4WGMjk0U2008DYSfw0Ua/1wJCtJV/H0UWV22XUA6nS5b07L2FG9DlTzh5/i0cHq1NscMA4sXDmDhggXxSZo55pktWzHjsWD86GANxVds2QfpRMmalU2PtyZfJxBYsP+znDzWr13t507GYJgmTMOAEfxxzoUcbLDSpS6cCNzz4HkczGCwLKs4f+jxPK80CH0xfzMw5udbL8jPHhF6u7vb7ia+45HjqhOac1x85vFh7LD6gwbuI0uKlT7LtPhnmRb/DADduTFsti0Mp7oVBoovlRBusuVTwxLKyyn3yqLwMYnjImsM/3LuUnSm9YZViVwuh2w2G/wg8Dv3DW0i8R6FEsFOIJiHiOC6Lsw2SYSe58GKdMo1tSEi3L9/BN8d6UAOla/FrKeVyFErxeQusmMHcX/HKrhMHk8clZJDT6UMFNXD9wSgz+C4dvU0Tl65JDaHZq65c+sB3JAbQI7MsnUWX4fhuo9r8c+QaP7n0hkmWdsAAIs8vN46hAtOWw/LkrTL6K+1Ogg7n+o5vNRKiUjnuhZQWsKSdSRIgiCRBKEBJGUIkiD4kgfAhQEHDC5Y8b3/Z8Atvvf//M8ljyt4ws/RcsL54p7S56KHorr/Zwevhcj7aPl2MC3q8b9HeQyhT1ZG9C/08HADq7DsqgsSSRAaQFKGIAmCRBIEiSQIMaj8zuHoa/EvOEId/UPss//PT2dVPUI55fMwVvo13/AfE7XwCG29Hsv0jw43jGT5C5IgSCRBkEiC0ACSMgRJEESJE6T5Ibodx/XyvFWaVtLj0yHR4p8ZbJjIw0SBGPLEUCCGXOR9/C+cVs0TnW5LphcCPe6xyc+P0eUVX3aiIJEEoQEkZQiSIEgkQZBKzSMpVJAEoVwiMHAYNfaR/mc1T3m7K33298nxeaLt0gn3T8H4nELeDPOiJG9W+wsp0yVllPJz6fhBHGFxCoJUah5JoYIkCBJJEKRSdVRmkHgEKSKUOqGSBS9IgiCRBKEBJGUIkiCUfnWVQ5Ep4fvKntL76Oe4BxU8oeZ/Lp8ar1MsobReSs/tqeypPL2apyjEECRBkEiC0ACSMgRJECSSIEgkQYghGaBYQDJZkARBIgmCVGoeSaGCJAgSSRAaQFKGIAmCRBIEiSQIDSApQ5AEQSoBQHGrbiYPlXJJNOeElGvSc0FBkdEng8VrieaPUK/mCQnLVMlD8Wkh0W8jFySSIDSApAxBEgSJJAhSqXkkhQqSIMSl6Jryp4htM1xTKp5Qi34OKdfEMuQIUwWhASRlSCQBwSMIUql5JIUKkiBIJEGQStVRmUHiEaSIcAIca2bFDaD0vywFqntK7+Oe6Of4LqA0LVz+4au4OZZO3ofRh54o0c/RMir5lM9InMB4XjJjqSaF+mmkuYeC+5M0jVG8JrT4v2xh1vLEtfj0UAvzTyn/+ZP868lLl/dUy0PluSqsWZZffK10a0m8nFBDhTI080F4DwIU2l2oV/NEP8faXUwrTYl7NCcax3EnNJry4sTTb5xoCq3XE9ZX+yrQOJX8UV22wuLfVLb5A/4Eqa4BULoGs10o3sjUJiuNiFdqWZqGkOWPKJVyTJRKnlIeKnkYGAEGqg/RVK2mkGp5KPq5UmuppGtaiX9TkBxZm4pST7sLPfG1Hnrak3Y6AHA8I8slxwmVGlCtRl9rOnxPpeKjBJ5a1nDzjG6+0dfQE9fCz/HNPb5ph/NEPRo5+UIhLs0rrutJ1vr8oJNyktTaEuvLMWrEHt0WI6k8FNXin6HwzTWtg1h8TUJhDSm2TSXiraR90PmuNRyHnVBZw4mnwmqecHqNFMxqeUpvZZtYPIqoJx5tLSp54uXE69SI2LYdl+YVztvn8gCvjY7KHpvItsg49eYYBU+kLka87DHC8SiSyEPxfBf/XEnTzCfxtS1b43W2zbJyKnkANHDWsBXoTmhrOA47oXFYsAGEzTz6Gk2bvqd0X3PUW+4vv21Ijuw0R7hJRqOJb6IyT0h0k4h6ohFHPeHJ03CaUf1AiAaAXSjEluL84rbRNarc06fjmyO6NUZfw2UazzGyrTXuCTU5cU80v0SjCSOIvsY9IdEWEPWE2VPmiRIvTzPfhG0q3p5KbU1sd+FflNLneLuTEfXE20g7oDuhreEE6ITK0mv0tVzzL62Pe6Ibo+8qnx7F12RPf5BttiHRTTZM5vFa4vOySEezkscIPABA8YkaAdMqDQzfDoSD4bcDbRTKMUx8q6ZIe4vnGDGHiJ5yrUQ4BHnMEwwFVqmNl+eh8sxXKceU8lD5jUkh4TcMv1Glb6aZL+JrOPoabwVhm5KtxZImtLsyVDyaE4XjrhOq8gusOuFGF75HZGOs5om/LxHfXKObdLSG+GYeraU0pRQNAQi7TPHNOfTwYCXHy9HISaczcWleMU3JwM3zhGE0OU6oRor8OJBqjqnsEUsNruUjv84wb0RrCvNLPI/Ea41OqzcPRaeJMWrmn9La9ttmuBaj0yu3O/FzXBep7Wg9Ote1hiqD1UuO5QmCRBKEBhDKUIsFiF5oHd9wUHYosFLz8mePlhESeV/TU156dJOlWGTROWTRxb9mPO7wKGelzZ1JypAJEklAkAShAYQyVGJR8UhQ8GQz2bhUjlCGSiwqHhkMplnP05IkhQqSWiyCRIBhxFtXncgKjSNIjcfbNEIZKrFIPHFieUjmn4s8BBDIMMANAxQZqZFic5RyUeU8FKeePBSto9wnWXaCIJEEoQGEMlRiUfFIpeYRClWJJe6JXkARKFTeImXv/Lfh52iJ1TyyFlEbyVdoHqEMQQAQ74TGl518NonUPEKhKrGoeBpApQzBUz2WKoPVx5unzCORBKEBhDLUYkFxIwqJfXVGwYzyYw8IFhd3PWFWn6DsYjkyyjdiBJ9CJT5X+Dnqib7zo5V5yqdFp0tDjxIPQnH5CpIgNIBQhkosKh4JNTwMDKlUjU6fUEaFWMpWQgWPAqZZeu5xbSQ+QVKLRZAYmn+EnazQOILUeLxNI5ShEovEE0clD8VyDJXdFBboLPJegEmzTkkprzl0zEUekn1HmSZddoIgkQShAYQyVGJR8Uil5hEKVYkl7iGhexBvd1IiHk4ElF23HszLIu8ByRoPy6helzBVEBpAKEMQAMTzXXzZyWeTSM0jFKoSi4qnAVTKEDzVY2lyrzI3kOvBGxxH4bHdKDy6C+6+oYZHyRa+vLAx+MwMHsLNf3wBrrtoJa6/ZDVuuHQ97vvY3yA/NhJxReeVlxOtL3SwmB6+D19lm2PxPeewBw9g2x+dhh1vPRt8ZkryncS6ZGXJIz4OIQLNFuBsO4jCIzthP7kXVHBqLwAGWA0+p52IMDo6im3btmHr1q3Yum0rdu7ciVwu1/AF7iyJjh8AznkxtpmZmfhkZeKPwjvh4AT34AgKj+9G4bHd8I6MAV71MTcrQzW3SCc3g/s+9Q+47qJVuO6iVbj+opX42ZtfiMk928GL49lWL8On5GFEYOR3PerKQ5GIWVDO6A1fwrbXn4LhH30OZPtDm8nykKweTYIQwRuagP3kXn9/eWAY5Kjc0FhpqCWpWIQ7Dh7/3//G9a9YjxsuWoXrLlmDn7/xfAw//Qi4Ex1dpHo50em1nPUwODiI7du3Y3p6uuHcq2kdze/hEoZsF7O3Poyj7/gshj/4dQz//bcw9b3f+g9gViCSboPP1XaapWlkWFj8nAtw2Td+iyu+ey9e+skbMPjoH3Dfv/9lJOGX8Pv28TSLsl+W1WpGhQ0vrnmz05i4+Vtgngc+PRnsQOIun/gO40TFG5/B4HuvxeB7r8Xw330Twx/+NvjolNJSaabTZ5omVq1ahQ0b1mP9+vXo6OjAwYMHmxr2qdlOHxHBtm2MjIwEA9832mlqPpZjGgJG/7/rMPhnXyjmpdnbHwPx2suz8lKLd8+iMBiGiezy9Xj5Z2/CFd+7F5d983ew0hnc8TevgT0+AuJUzD+lfBQSbeulPOVfCypuB3El/jmONz6M8Z9/HZSbBrcLIOLF4x2Voogi+8aaBuCEmZ/dh6Pv+iyGPvBVDP3t1zHzk3sBR9xnicTXTnStVGmbjMEmEy/71PW44jt345X/+3ssPPOFuOsf3ozZwYOg4pHRaNushopHjUKhgImJCXieB66wbVbihP/B3UIa3+POJQYD68qg4yWngWYLIFtlgwoJN6z4K+QbVEDnwAI89y//CT1rNqF75Vr0rz8Jm656K6YP7AJ3nbg90hEkycZcjiySkHD3IJvGnQLy2x/DzMN3YsHV7wYkvvBzPPHHP6Pqtz++YIyBWQbSm5aBOIFyhWCHXZtGn5jEGENvby86OjqQSqWRSqWwaNFCEBFmZ2fjdmWaSaQI5h8ZGUFfXx8Ya25zP7GPKvjf3VzYjdTaxSDbATmuuEFKEC1qW6KRSuHMP/pTLDj1bHSvWIue1Rvwomu+DGdyHJN7twORJ1j5+UisySec5j+yE5JxQqM3DcVLCT+HHu7YOPTJ92HgynfC7F0QKav8Jz9VyUPxOjRNQADLppE+fQ3geP7+UnVbLWuK8TUmh5kmznvrX2DRaWeja+U6dK9ch2e98d1wpseRHzoKKo5tHG2b1ah8YKUeOOc4fPgwli9bDsOo5zKmCjQfkkaB5vZKcwCzTHS+/Cws+eJfoOuq58Un10G0AUZTrv9afu0oYJgpGJYFBgK3C3BmJjG9ayvSvQMwincoxxu1bKONfy4p0eQbfxU8RPAmxzF209fR98o/gdndFzhqI0Yg1nc8w7oyWPSpd2Lgn94Ilq7v9Hoznb7w13P4uM1CwT8Cmsk0fsd9Mx0/zjkmJydBBPT09ARDLMlahxrNxHLMwxj6P/BqLP7cnyN95nqwho6Y185DUQ8zDBiWBcMwAdeDMzuDo/feCSOdQWbB4siYWSp5iAHFI6FiHojmofAv6qHwM/eQe/xuuNOT6H7uxWDpbMWxu+SqT7VpmjpgDJ2XnYelX3kvsi84FbD8fVV8/dZGbJvimH7+Z8aY3y5NC/A8ePkcpvfvgmGlkeofAIQfu/FyooSPDq3mqQ0RYXx8HJZlIZPNNN8BBRLpGGtqE28t84/BwDrSMHo7gTo7EOXEU2g5/vZV7iHXxeiDv8UzX/047vrIn2LswC6c+af/CMNKSdJyaT7558obQXSXIdt9AICXm8HU7dfByHah50WvLDuK5e9KKs8bEo9MFI5PWMqC0dMJoysL1HlHd7PJy3VdjI6O4ujRoxgaGkJ/fz+y2Rp33Feh0dNURATP8zAxMYEFCwaKlxmcIE1gTjC6szB6O/0fNg2tFnHp+zeCVM5VxDlmD+zE1m99End/7AN46odfwJnv+kd0LV8d6wjHy47nIb8eYqzYt1DJQ2U653BHh3D08/+AZe/+V5i9A0EM8bqrI6tH0yDMPwpq9HeBZVJ156+SW7IOy9omEzx8ZhLbv/M/uO/jH8RDn/lHbLr6nehctAysbFi5ePuO4tde/Si+GrZtY3x8HIsXL4bBEjgKqmkZ7dcJLSPphhQtT0y7RBzTg4cwvOsppFIm7MlRmODBEaD4RlIrtrjfh0nmFJyeB/fwXkze8wsMXPkOGB2dgicsJ4wsPj2krK5wnOoThvq/bbPJi4iQz+eLp/U9z2vuCGJxyLH64JxjcHAQXV1dyGazxe/VzLfzj/LGVU39xNdC/HO5Zk9N4Oi2x0HTowB58Aqz/g1RSiujsidea9wZzTEAgTsFjN/8v8isPgmZTacDVqrorJaHKFJXNZ8mOeLrthLieojPGV1z5ZDr4Oj2J+FMDMOwUuCFPIh7YErtEmVlxmuth/CSo66uLqTT6eYKC2gqZ2vqos07oaWGoN4k4i0wTKUoS4f+EaawVN9jpNJYc+XbcMEnr8NLPvYdbHjFG3D/p/8BXiEXKydaR/y96PGTbnlc0ZrDz6FG+VkMfe1fkV53Kli2A/aBXXDHBkFOAYWDO+HlZvw7wIMVKDseEn5TLxbVCU2NRkSEBk+zlkilUli5ciVWr16NlStXYmpqCuPj43GbEn64ja25QqGAXC6Hjo4OOI4D27ZBRHAcB44jXuOsSpN99BOc6NYezRPleagEAzMM9D/rPLz0E9/HhZ++ARd87Lt48lv/heFnHg5uihLzjfheXGlhrZXyUDyPME6w92zB6C++if7X/jmcI/tgH9oNnp+FOzYEb+gQWOTO6Pj80TwUnaZpB6JtRKVt+u/N/oV48X98Cxd86jq8+KPfwM5ffAdjmx+H5zoSf0j8vf+50bZARJienkYul0NPTw9s24Zt2+Ccw3VduK6rO5RtTpU9rsqKU/G0CllqCzeiQIsMxFtyxT2+ZHV0of+0s5GfGIVbyIseaX0RT6wGxE46RDf5kDAS7tpwpsYweccN2POBV2LP+y/D0A8+DT47hf3/8FrMPnV/cDeq+Hz4OGony2o71DxJoFKPiqcRKHYDk0o9cg9jDKZpIpvNIpfLxSerEfzQUE+ivo+I4LoOOOc4ePAg9uzZgwMHDoBzjqNHj+LIkSM1ypRPIwpubEkMlcJUPK0iWL5xuYxqU4NpZQOCh6/leUg2WD0zTHSv2YhUVy+mDu4JRu2IlyN7X/rMmQHODFBZF6B8jng3AfDPEtmjgyA7j/0feTN2v+8S7P2bK2Af3Yfxn38NB//rr+DlZ5XyULTecqJRVELFkwQq9ah4kkClnkY84V3pkTai0DYRPHErhJkm+jedDiOdxcEHfuPfyFt29jBab/y9/7nx9uBfAuV5Hvbv3489e/Zg37598DwPR48exfDwsMJ1/vJ6ynOk3JM8KvUk5UkClXqqe6p0QuXNohwVT50QAW5wh5/r+V03jwO2C3K9KqegZLFQuR4ZJLp8A2HgjgPPLoC7BXDHgZvPYWjr02DpDJgRuzZVOqBv+Dmul2qK1xx+jvoYAKt3AdZ++uc46YZtOPn6rdj0/Sew7D0fhdm3EBu+fj+6z30ZmCE+zjH6jaKvYkRxajvUPEmgUk8ND+cg2/XvXuZBx8mJfK6CWzYSQo16gDIPEZX9ua6LQqHQ8NijgH9NoDp+LIwx9PT0YdOmTTjppJNw0kknYf269TBNEytWrMDKlStrXHYgn0ZVhgdrDHk95ah4WgM5fruCy/025QXtrCwvKcQrzR/ly5UYgTiHZ+eDvOTAc2wM7dkJe3rCv1HRYJJyws9RPeYJqqqWh+Iw00LP8y7Gph89g5Nu2IaTrt+Kjd95BJk1J2PBmz+E1f/xw+LNk/H5ZUsm7vGJfxcZKp4kUKlHxZMENepxPZDtgdzg0h+PgxzXHyu0LN/Fywm354iu0jbJg+c48Ar54n5zfN8OeHYB6eXBTXsMknLibTPe8uJUm+bDGMPAwEBZrtu4YSNSVgorlq/A0iVLFR59XLseNU8SqNSTlCcJVOqp7jGvueaaa+JiHFmzjJOYJ29j9uf3Y/JLtyB31zPwhqfARyZRuH8rnKf2IP3ck8FS8kblco57j+YwanT4AjEw6TV1kSiCoPb+7mb87u/fjOlDezH4+D3Y8fPvYd+t38O6y96EVS9+JZjB/F+Jsi8Q+WIs4km7eQx6BnJmumwktHgR4XOVi78IGAMzLRhWCiy47qqw6xnMPH43Fr7hvTCy2WIpYVnxHUr4F2KAsIHlccGKLqTNKr89FFBajwqeJBDqIYK7fxhj//5DzN76MLyDoyDXg/P0XuTvfBLGgm5YKxZWvGFpZnYWHQ3cSOR5Hvbu3Yvp6WkUCgVMT09jeHgYhmFg6dJSIhTilRB6wo6sZVk1Oo0ijJXu1meMgXOO8fFx9Pb21nW3fjRe13WlQ5+ofKckUKknKU8ccj2M/+f1mL7xbtiP7YI3mYN3cASF+7bA3XMUmbM3gAV3JhfnCV4PTOTweC4FR/jNXz2K3PBR/PI9l2LoyQcxtvUxHLz7V3j003+Hhaefh9P+z18h091bXgSx0jXEZbmqZDI5h5WfxEGrFxS7i1nIQzEYMwArBdNK+bmJe5i49bvIbjoT3We8EMxKleWh8DX+LUOPASDLCK/us7Gotyvmqo3KelTxJIFKPSqeuuEcU//7G0x969coPLAd3tgMvMEJFO7bAvuxXcicswEsm47PBQKwZ2QKzzidcKRRyTSf2eGjuO09l+LwQ7/HxM6nceje3+CRz/4/mJ1deO57P4pMb3+QIyJl1GibBgjPNqawfnE/TMklUdWWXZjjwBgMxkDw75Tv7ulGJtP4nfKcc+m40dViCUnKkwQq9ah45gpxCUtQCS4pD3kE59AY8o/vhb39MEAEb3wG+cf2oLDtcB1PKPEbfZjwyvTo++DjyvMvwslv+zuQ68KeGEP3kuV4wb9/G+e976Mwwk5bpEPrD60S/EUaeenZ9cWpoNhfnHBu2TQAYJaFzPrT0HfJG8FSKeH6UtlylZZVoQ9dLyplqHiSQFYP5W0UntiHwpP7/KNUHkfhmYPIP74HfLT6UzTKj4SqYxgGli1bhlQqVbwZqb+/H+vWrvUvlg+QxRsn6ql9KkkNwzDQ19dX+7GkMaKx+EdCRVS+UxKo1JOUR4CAwpaDKDy2B+7gBOBxuEfHUXhiD5ydR6RH2OX1hGp0qszJkO1fiHP+5r+Q6elDYWIU3Cng9L/8N1z4qevQuXCJn3eKeSheZDwe3yeMuhMh3BnE54xStsNIpdHzsquRPelMwDSlIzlUK6vaNBXE2kRUPEmgUo+Kp24IcPYNI//YHjj7hwGPwxueRP6JfShsPQhy5fnDj4XK9lfFCMsaiRh1x4LFeO4/XYue5atRmBiBm5/ByX/0Z7jqhw+gc/HS0nX1hGK7q9U2ZW0nSvWpPqGHBWM2p1LhjXONUWk/UU8s1VDxJIFKPSqeuYJRpSU9X3DyTyVEB6hnDCACs0ywTEp6FIuIkHNcfPqJYWw3F1RIcCzYMuKvwQ7Wc/3Tn/4dKjBMMzbchCp+ub25MTxdsDCU7gaCq2jCyMP4jOB9PBVEPxvkn5oj8oI7UsXbqqLI6rGI4xXWGP713CXobGroq/aHHM8//e7xYtsJfyiwbArMNKR32BARDh85guXLlwvLVAXZptTor3AEHdDZ2Vl0dXU1VU4IETVVTj6fRyqVUji9dXxCOdtvU2F7IvKHlDMNsHTlvHTvvhF8e7QTs4iONyzPQ2UE2z33gsHHmX9dqGFa0vYrIpZreg4yY4dwf8cqOMysKw9FayT48cFz/XEhFY6Qx/MSA9BncHxjzRROWbkk4tTUAxUcP+dF8w8L26UFVDjzdcfWA7gutwCzJNueq7dN4h646/kPTAiORBpWSrFdQijXIg9vtA7h5c9ah1QTly+FhLk43iZVoeAmzugBBM3cIG+d84nBwDIpGD0dpb/uLIyeDrCOtDTRl0EoPzoAxFKf/xofJJoxA4aVgpnOwMxkYabTwbWgvi/6f3EehPWEevi+fKMN541PiX6OlhRN1gwAMeYfabBKp/XjCT5KVI97xHRy/MFSJlhnpqztGN1ZGN1Z/5RpjcRUfWploqe/i6eI2ohm45H0sU8oWEe6vD31dMDoyvqnO2vlJSDSsirnobLWxxiYacJMZWFmOmCmszCttDAYuDwPoWxrDz3R/FGappaHojAE7clK+T/UJW1LVEpUKldTPyyTKrXHyD6TdaQrdkBF4mui8mD1gP9jyN9X+u3SSKWDsazL56nWNsOjn6WzisnRjvlXI0e1hR5b1BgAGghPm1f3RMuRPWekdL97jXKAMj1M7qEi21TCafV44qhEpSknnVa/XrIVlJ7WNf+Ypni0S1MP4lZYfx4q/R8iz0PlhB5iDDxYh9SiPKRpX0rrU7L2arbN8nYX/b/kKPeUTwtehXraA53rWsPx2QkFKqTLODKPTINkIwl9UX/cUyKcwiRzxOcKPaFP1RMn/k1IomkiMIZMpo1OvzAGyzTbJhnKLtLXJIFs/co0VNjSIckqMoLLmsJTlZEpqjlGxVONeBm1/Jq5pfbyr9QOZXql0uItTXxf65rQ+UDnu9ZwHC7leDqMNu54Q5d5KhH3hPNGN6poOpY7ZJ9l1OOJRwZJ3WFkKuWeqDBCItcjJQVrs0TYLp3hY5/4cqy2JccpzzElZFt23Odfy0pMPCVfiWoeWY6JI/NE65bNo2kd/vKProX4GpGtqUqtp1rbjOvxz7LyNCcCVfZw7dQo6okl6o1vLJXKieiVLGWe+AYUQmW+uEu2OYeE0xr1hO/j4cfLiX/2ic81n6jEouJpjPrH9FSJRcUjJ/lOaOOxJH+dlUosKp5WoRKLgqeiJTKhqkeWAWSIhXDGQLGbJKOEc8hqUMkxKp7wc9wjU+YPlVhUPK2ikViYuCYqFqPqqTQxrpd/jk9tLfLay3Od3DM/qMSi4mkV1WOpsoeLp435pNFYKDJv/DVKRGPReYpi7GM1T1yXTwlLCFNA9FXmgWRa9DVE5hEjilPb0TpUYlHxNABrZEgklVhUPHJkd9w3x7EWi4qnVajEUskT2Yql+SOG1BP/XM0T1SPvY6tQlmPipUY/y6ZFX2XoPNQKGonFf6hG2dqXtrsYUk+0BZVrJSXuYRLPfKBSu4qnVajEouJpFdVjqdIJLVEtwYQk5WmeyBcmFnm8WPS11PjLH1MWItvIQq+ESBnxIdAo+IvfNxi+j9Yerozwc9Qfdo3CyMNp0RVYyRNCCk9drDUdCXqSQKWeejyuGxkabA6oJxYkOE6ojHpjqYSKJwlU6knKkwTl9YSfoq+yjFCNYF6FPFTpSxoUHgf1ieahsKVF81B4N31IOGc8x4SvFJQTnR6PloK/ajufCuGXkZQnCVTqScqTBH498bESoq+StqnQ7uL7P4RTpG2zZJbMVkat6VD0JIFKPUl5kkClHhVPEsjqqZYHilRoemUk5UmO+GD18Q2Jip4SQcoUBusNPEUvC94Gvoi9bPBff2i/8G3xLwoFKyE+Lb6s4h1UBJ4w4YefQ0+8HsAfRSVebpxa05GgJwlU6qnHk/zRvnLqiQVzHE8jscjiUSknCVTqScqTBPJ6ArVSjoloZTkmWlokD/mzBdPKioyUV/RUHqy+Uh4KP4WzVcpD/mtpQJ7QI36r8umVqBBmGUl5kkClnqQ8SeDXozpYfeBpYP8n84g91dq3JdWaDkVPPchyHRTrScqTBCr1qHiSQFaPUif0mKLYwOMNKL4hRbSyzxR4KpXja+XDSsQ98Q3Pf0MRKTp36Ai16Pt4yVEtPHIRPQIaeljsc/kbjQwCgdPcHXlsFL3ajieCtVmWP2TUyjGBVtUT5qHQQzCIB0dDfeJRVMpD8a0iOk/J46vV8lA4XzE1atqIYO003Tbj7Q6VPUGriE/VnDgcf51QQvBLrlqakw3EKyPqkfnj9YSfyzep6OmvcLOMlxbVop6oL6pFa5B5EOw4ylJAeOBEI4f8hxa0C/66Cp7Mozk+kV4OFCWeBeKfq2mlAcFLHv9zpTyEiBZ6olqo1+vRHIM03Daj88Q9IbK2qTkRaZ89bpLU/CUXemoRTa8yf7ye+OdyKm1m0U3Qf/X/jyf4+Pzh5/gmHyX+WVMdQ+nJNy2CSPYgGs3xBIt212TEc0r8czUNkWNMvqc0WH15nfEo4hE1k4fi0Wvah/i6LKPYNiu54u0u/rmS5hNvm5oTk/Z7dnyDEBFytoOv3fUkDtuVm3Q0mYafZUkUFTa90B/1ysoCgE43h3GXIU+GUHaUSvWrEI+lEiYIZ/YyvOWl56Ir215PBWoXiAhDIyMwDQPp4BnphmEUn5Xuui5c1y2uZ8MwYZgGiPsnIrnnwQv+TNOEZVkwTBOm4T+rnnseOOfgnMMwGAzDhGlZABE45/A8D67rwgt8pmWBMQbLsuAPrGPA9Vz/cY6MwTQMmJYFyzSL9UZjNBiDYZowik/IIXge94ceISo+Bz78fuH8PLz2k/xOeThUieu66O7uPmGfHd8IRIQHtu/Dr3YOYZaH66G03dabY6LTw/fVpoefEWgmcViFaYxSBm6s9nidlYjXXS/R+XtSDO86ezVOWbsy5tLMNY89sxWbR3NwgxXpv5RagUp7iLeg+F0Y8fnjWviZEeGkvhROWrMCpmECRLAsq5RHDaOY47wghzKUDxvHOS/mL9Mwirk7zOMUeDzPAzgHDAMMDIbBite7F/MnEfr7+xsYsk9TL6VOaDxzySRBkEiC0ACSMgQpJhARpm0X7/rNPtyW7wIPTrdTcLiXFx+8Kb94vrT5+FPC6Sxy809pAytVHJYV9YQlbKIJTB8ZwiHHKtvwwvniWjl+pLU8woIq4k8L6zEZ4Y9WWvjMlWeiK5MWZhNKEgSJJAgNIClDkARBIgmCVKoKESGfzyOTzVaeT1KoIAmCRBKEmEQAJz/ZmpWemlSrDKkgkQRBIpHfSTVMP7k3hFCoRBIEiSQIUql5JIUKkiCUS0SEX2w7ij/fTJjyjOJ1k4jlodINhvXnIV8L81zJU16CTyd38YKZXfjteAo2+VGEpcmplof8b+rnzthCKBJ6/HdxFmQM3HbFSpy2dgUgW5yCIJWaR1KoIAmCRBIEqdQ8kkIFSRDKpXy+UPxBG04LkcUbX38NeSRXFzEENz1yjnQ6VZZfhK8gCDFJMl1A4olLxAkEKvvBHfeIglRqHkmhgiQIEkkQGkClDIlHkCLCcXUkdLrg4q13HMQtuW54kS9dnpwj80Q84bS4J+qr5Ynvmk/m45g6PIiDkk5oq7EY4S2rTHz+qjPRnW2jR1O2EUSEmZkZdHd3xyfNC+Ev+1QqJe+EthjXdWEERxg0ahARbto2iD/dzDDhGfOSh0IPAejmLl40tRN3jlsoKF0XP7csyhj47atW4PR1fidU0zoKto10m+QWIoJt20in020TT3gAQDO3xPPVMQ9JEnF4Z2c0ccc90UQdT+7hJhHX4p/DG4FCff43JQltGVT74Hnx+4Dnl3b6jdhOsRyLyPIQ6sxD0fwS1cLNWpaHELw34N9r0gZ9T00bMJdjEDdCu8Wj811rSKwT2m6rq3R6yyfakQy/dDR5h55oUg+/Uzxnhwk+7gn/Qo8K8bJlxGOsRdGjGkSdzFGxc0Y98XLuxaVEUYmlrPNANK9HBuqNd75pp1hConkhmh+MWC6J+1VyTOgJd98yT/g+6okTr1+GiidK0VNlpaiUU4kqxbYl7RRvvM3JaHW81TqhrY6lWdopXpVYVDxzRWKd0FoNulX4cfjpOXpEIJqwo69xT/R0WdwTQpEdCIIrtOLllFOuRJdVaYqKp/y9uMzDiAJkg9OLwdWNUGaboxpvK/p6KlWEnvnsfIZUaodR5j/KEu0US5RobqAqOSb84xVyTFhW+BrOH/VEywnxl0ugBC+V1q04n6hX8viEEQWIBtHTANJi25h2ipeh9pG+dov3WKKd4lWJRcUzVyTWCW0X/EvkGYxgsca/YLjZsWAaA4TL7sNkX5qOoOQSHvwJZtkNBr5DXKHlinzTV/GEVErg0TIqeMTgNEXiLWH+KW9184tuOo0Tb1nhJ6NKHgqPyUdzTLw9cNTOQ6W66skxPtU9FXKMJA+J6Nak0WjEPtpxQOlOzOgrJF+2lB5Lw+aaxR1CaToFCVzwUKnDikiSj8+fPCoJvIJn7oI6Lshk2mv4KstsnyFCosOhaNQhoOzu8eitDv40HybLMZI8FKKah8L3yW/6Km1BxaOZD9rpphvGmH8DZhu1F53rWkO8X3bMI0u2sqYUTeyIeKKnvKId2KgvPEIRrad8Z1K+U9AcO5htdud3OyVCwzBqnsLTVCZsWbIcE30fzzHxPIOgrFp5qHQ6v9yj0QDt9XQ4BMOFtRPtlHuPZ9qoFSZDPCHHiSf1qI7IDiHe+QyhSHKPeqLNNbyutFlUylBZgWXlqBR6AtN+iae94tHDMzVPuEZlOSbMT7IcEyV6zWilPCTrpMZRaV2t9GhaR7uluvbLvZpWUNqjSDKVIAmCRBKEBpCUIUiC4MOiSd5/6AsAwB961p9Wugar/OmdUQ+inpJF8ACAUVZP6X85BFQZ2rlE/OqvKKXaeEWTP6E4CH80QMk8giQIEkkQGkBShiAJgkQSBIkkCDEIIKpxDFtShiAJgkQShEooG+VIZhckQZBIVBo7r2GEQiWSIEgkQZBIgtAAkjIESRCkUpEwfyCWX1RyTGl6ZU9o81/9/8N8h7J855dSG7U8VMtT/iydyggeQZBIgtAAkjIESRAkkiBIpeaRFCpIglAuJXZWQ6UYiadMYpC2EEERhAaQlCGRBASPIEil5pEUKkiCIJEEoQFUypB4BCkilDqhkl6RIAmCRBKEBpCUIUiCUKL4/YK7wxn866TCWSjyF4p+oi4/IVD0BBiRcqI6Re5Cj3rk+BEJK0WgcgmlabLb30P8CcXubtQnmUeQBEEiCUIDSMoQJEGQSIIgkQRBpGA7cakcSRmCJAgSSRDkeF6TQ0ZJ6hEkQZBILNhp1W64lREKlUiCIJEEQSIJQgNIyhAkQZBKQKBHc0xZHgqolD+iOcas4WGSXCWuNt8p6nHitUQJp9X2qPzshqwkQZBIgtAAkjIESRAkkiBIpeaRFCpIglAuNfWDMoqkHgGJJypR8MjMeEdUmE0QGkBShkQSOumCRxCkUvNIChUkQZBIgtAAKmVIPIIUEY7Lc2vxxOpFEnH43eMezjlYIQcjNw0zNw2WmwbLz4C5dtEbDn+CYMHFywjrCDdtYcFLqOVhrg02PQZMDoEVZuOT66dWhSc41ERiDo8Uhs845sEzjpshngjrJYzJcZziM5EbhRPp9tME0dPjLJIv4p5QY0SAa4PlpmGEOSk3DW7ni0fsw3KihHkq2vKKOYwBJDntKSrVYXbOz0nTY2BuQRKFpt3hTeSCuch1zc6PoIwkch0SyL0aNY67x3a+5Y6DuCXXBR47UhBP1uF7I7yGMz+D1Jc/AD52tJSSMx3gL30T8OKry67BksEi12nx4PMpxcd2mhWPBMTjKsI5MD0K6zdfB+17GsQJRlcv3Fd/CFiyru4LeoqP7Xz1mejO6Md2yiAijI2PY8HAQHySElNTUxgZGSkmL8YYMpkMli1b1tD1TpxzFGwbHdlsfJISnHNMTExgYmLCf+67YSCbzWL58uVxqxKO48A0TX1daB0QEX62bRDv2sww5vn3rVfNQ8FnBoBcG9Zt3wK/92dghuFv8wTw018Ces37gJR8JAeSlBfSSS5ePLUTd46VP7YzHldFuAdr50PAnd8BnxkHMy3QxvPAL3onkO2Ku2uiH9s5f+RyOWSz2bpzEwWPNx4eHi7rqKVSKaxYsaKh/EBEmJ2dRWdnZ93xIJh/fHy8mOsYY+jr68PAwEDD8XieB8tqn9FJjlfqXzutgHNQrgA+MQM+lQO56qckGVDsfoaJNfoXInxx1wE/sA3UvxR40dXAi18LvPDVYKtPLlqi5UTLDqfFX+vflEqw3BSM274CfmQ3jBe9AanXfhB07iuBdKlDUk/5Ra/SnuYYhwjkuOBTOfDxGVDOBhR/axkNJMAQz/Pgui56enrQ39+Pvr4+dHXVv2OOwoKEWC9hUh8dHUVnZyeWLVuGRYsWtd0QVMcURKDZAvj4DPh0vq68BMU8FE7jABj3QCOHQflZ4AWvBnvRa4GXvh7s1OeBmCHNQ/Fyonmo+D5urkJ0a2DcAzuyA971HwNfeQpSV74P5qXvAa04GWhgR69JDsrbfrucmgXZrnK+axTHceA4Dnp6etDX14e+vj709PQ01IEMaaSziCDXhQcAuru7i7kundYHW44F2u5IKOVs5B/ahsK9W1HYehBGRwqZczeh44IzYK1dAmbKG2r0SOitue6yxBxNxCHRxAwAmB6H+dHXAS97I7xXvAOwUmVHBygYBD9Ouae8ntKRUKuevA8Qh3FwC+gH/wr2mg+BbzwPYPHjsGIs5ZRHc8IcCfU4nD1Hkb9nM/IP7wAfzyG9cSkyLzoNHS88DSyTqngUmYgwPTWNnt6e+CQlxsfHMT4+jlWrViXyC5pzDsd1kE6l607unufhwIEDSKfTWLp0acMJPsoJeySUALId5O58Evn7tsDZOwRzQTeyzzsFHReeAXNBD1AlL/lHQoFRzxS22mj+ELBzMK//JOjgDtAHrgWlsw3loRAGoINcvHhyJ+4cLz8SqoRTgPHT/4IxtA/uOz8NZDr9vERUcZuqHI2PPhLaHOR4yP32CRTu3wZ75xEYPVlkzt2Izpc9G+aqRWCpynkoXyggk64/txARxsfGMDo2hnXr1iUy3igRoVAoIJPJ1B0P5xwHDxyAaVlYtmxZIvlJHwltHc2vrYThswVM33APcvduBQB4I9OY/MavMfKR74JPzCj9wosn9rBJh69hWgw9xSbveWBH9wJb7ge2Pgg2cggUPEs8Okh0vDsY1UPq24xieC6w8xFY3f1A9wKwPU+C7X4cxshB+LfDq5RewSML/DiCPI7Cwzswdd3d4CMzgMEw+9unMPbR6zD7m8dBXvXrjswqSVsFzjlyuRxmZ2dRKBSavs7JaHAsv/Bara6uLhQKBczOziKXyzUVT707h+MHAuVsTHztNtibDwAGg7PrKMa/dCtGPvy/8KZz8RnK8LfYUtcxnodCou/DtU7EQdNjoM33AZvvg3VwB+AUAPIv8JFtzvE8FM93jcJcG7T9IZgveA3Y4B5gzxNg+58Gy0/7lw9JOVHbTGuggo2JL/0S+cd3A4YB9/A4Jv/3Doz8+3XgE9XvIWhqTGTGynJdPp9vKregiSOhnHPkCwX09PQklutwQue71mJec80118TFeYUIqeUD6PmTl6P76uej86KzkL97M9xDY0ivX4rUhmWAIW8ctsfxk91T2Ob6R/rCpBs27ehOIHqNJwEwXRvs7p/A3f4I8OCtwD03gR68BTj7YqCrF8QYjGAeT5JaowneDDyLKA97egZTvM6Ny7WReuRW/zq+R38FeuSXwJN3gD16G9hJzwF1DRSPPMTjqITBgDN7DVx+ylKkreZ/ubYtRGCc0HX189H9xhej6/LzYC0bwOwdT4ByBXRedBZYqvL3NxhgGJWnV6NQKGB6ehrT09OYnJzE5OQkiKip65wMw39KUb3zu66LiYkJOI6D8fHxYjyO46C7u7vu8nyC7lRD8x7jECF9+hr0vO0CdL/6+cg8ZxNmf/04+GQOHc8/BeaS/vgcRbaOzOBnwww2+XejV8tDRkRnnINtuR/8qT8AD98GuvdnoLuuA1adBnPxKpBpCdt/NA9ZkutCLXCsLYxhT96AJ8xdBSKYE0dB9/4ExtJ14L/8CtgTdwKP/grm2CHQhnOBVLqOjOTTaTG8/eQeLOlv7OzDCQ8nWCsXoPddl6D76heg8+IzUbhvK9z9w8icvR7WyoUVj1Iz5ne0Gtmew85emOsmJiYAoKFrTEMMw2goHtu2MT4+DgAYGRnB1NRUIvEA1F4D+h+ntN0SNrqyyDz3ZJgLe8EyabCuLFhPJwBU7TxEiTa56PtogmbFXWrwPpUFve+LMD99F9h//wHs7/8XLNMN9sW/BvOcoj/caUQpKweAW3cqjkEEch3Q3qeAsy8BPvQD4L1fg9HdD/PmzwLcLVpV6lHxHC8wy0T6rPVIrV8KoysLlkkh/ay1/jSFo5xejSOl1ejq6sL69euxceNGbNiwAX19fRgbG8PMzEzcqgyvPBBsVSi4e5VzjrVr12Ljxo1YunQpJiYmYNt23K6EwkmI4xPGwDozyJy9AWZ/N1g2BXNJP1g6aE8VfhTHkS2+eB5CpDMK0wK94h0wPvFrsM/cA+M/bwNOfh5w7QdBR/eAxY70xPOQbLCx6LjIUMwNvocA4gBxOPfcCPM9nwH+/ocwX/MheNsfgrnn8SpHQ31U6tLUB8um0XHBmf7+MpuC0d0BY/EAwAywbKpCq/NpNLcwxtDd3V2W6wYGBjA8PAzHcRq6hh3BEc368U+bgwh2wca6deuwceNGLFq0CGNjYyjk8w3H0+Bsmjop9aeEBS4IUmkuIdcDH56Eu/sIjP5OpJ69tpTwq8QSJrtwsHr/r3yGeEKkVBre8vXgXX1gHd1ga06F+Yq3AcMHgIJ/ui0sJ0z2iCX9SGll0+RU/wIslQI6esDPfgUo3QHq6ofx/NfAObQDhpMvRlM5j4QTyN+Yoj5hnvjSkXlahaRiQVKLl4hAeRvjn7kJMBkyzzsZsOI/Icrx6k6EpYoty4JlWTCYAcuyMDAwAMuyMD09LQtPAVZnAi15GWMwDAN9fX1+TIaBjo4OMMZQKBTKyxWqEAQgWJ7JIilPkNTWdWvwK/Yv+dgOytkwB7piR0El8QZz+n9i/hB9gccwQQuXA/1LgEwHaGApzD/9DxjgYAe2Adwtmz/6cA4f/1M0D5XXRwrrNMgfYIBpAYYB4+xL4PYtBaWy8DY+B2bPAHBwS9mP4xJh+WE51ZAsO0FoFZKKBUkSb6sQKvbXpb15P5xt+2Eu6oG1fEHshrHyeGuv+8oUc51hwDItDPT3gzGG2dlZebmCJC47sRMad8gxTQPMYOjp7UHKShXznmEYyBcKCqXUdsjibRlCxYIgkVoVr6QWQRKEMqnUQuPZUBSk0pzBObyRSQx/6Bsg20X/X14Oa3Ff6dRClVgonCwZrJ4F04ueAH9aZHBnZgCpLMA9/whAsLDig9WHr6EW90gWf0CVL2BYcJduBJmWn/gDWDoNxjkMNzySVXuw+rKFEMrCPJJbHQShVUgqFiTFePMOpn98D/IP7UDHc09C12XnglW70JwBPLgGWB1JxYEUdgQpuH6vXlg4QLzy6aSSLzytVXZ6K3gVdhJC8YIwR0jqESTFdd0S/Irtp/Zi4gu3gHWksOD/vt6/MSnikYXHgj/ZQzOi/qhHlmO4mQIMC8y1gXinM9jUK+UhBn9A+/IZZNFGCfMHg9c1AKQ7waJDQzEGZpgwnVyFQ0dh+dVyVYhk2QlCq5BULEiSeFuFUDGDd2gEY5/5Ocjx0Pv2i2As7BU80dmEPNAoDGDBqfSKD9eQxCtIArUdAINlpcCYX790lprfUzZTHJV45wihYkGQSK2KV1KLIAlCmVT9sNB8wTncI+MY/ZfvwR2eRP/7X4WOi86qeAdqnGjnj0U+lyXjiAcAMDsJozALhCN6zk6Cnvgd0D0AlvKHRZKVGydeTy2kHjMFc8NZ/vVh+58BA8A8F3jmbhi9C+BmeyvNWU4kQAW3MrLv3W5QzsbMLQ9h8pu/Qfq0VRj45zfB6O2suiAY/HEYG4HCJ34ECY+CIZJs20Znp385SUM0OD68aZqwLAszMzPgnPvxBafK6hm6JL44Gr++qjXE400aZ/shjP3nDSAi9P/t1Ug9a7XS6fh4zgnzQ1QL9fAz81xgZqLUWSAO896bwO08+OI1gOnfbS/7zmE50fqK7yXrUFREmGEhfer5wNb7/E4wCNbYIbiTo3AWbwCMCj/wIgGq1KOK7Hu3M3MZLx+bxsg/fgfe4TH0/fll6Ljg2TUvX2u0E0pEZafdw1zHOUdXV1fDOaLReAzDQCaTKbsZybZtcM6RSlkNx6NpDWq9ulbCCd7QJMY//VM4e4bQ9+5XoOuq54Mp3kwTbBbFDT48wB9thhTrRBIAtv1h8A9dCPavr0Xqf94N+qcr4D31exiv/QCQzhTnCf3RMsrKiX2Ov4sjncIY3AWrwdafCX7jx9Hxi/9G+oZ/h73lfvCrPgioDokR+dLSehqk3TdpytmY/fWjmLj2l0htXI7Fn3onzIFuhaM+slNCahARDh48iN27d+PgwYPYt28fjhw5gs7OTvT0NH7TRaMnVQzDwOLFi5HL5bB//34MDw/jwIEDyGQydQ2DEnc1uqNoFfF4k8Q7MoaRa34APpNH/weuQsfzT1W6zpjF8lB0CYaf4zoBwMwE2P/3JrB/vAyZz/8V6B8uhvu9/4B56TtA604HGfKxQmXlRT1Msg5FRYSsFJwXvgF8agzW1z+IztuvBf/uPwGLVoGf+gKg0g19J2geijMn8RLAJ2cx+FdfhntoDH3vfxU6Lz3XH4quBqo5II7nedi/fz927dpVzHWHDh1CZ2cn0g0M+RTSaG5hjGFgYAAzMzM4ePBgMdd1dnaio6Oxm0I1raPt7o73xmYw/rmbkb9vK7quOA+dF58DKjjg03kwywSzgieHSLA9jh/vnsJONyM84SjavP1TVT7FZN3dD7bhTHRwG8yxgRdcBbz+Q6CTzvWfCiJJ6uFrpZ78YsqjMD2DKV4hOcdiLMNMARvOgbn6NFiDe2D0LoT7qr8GrTwlSPbyZVAJkwFn9Bq4/NTj++54sl3k7t2K8f++CUZ/Nwb+/rVgpukPLu64YCnLf/pMBTzPQypVO4HLyGazMAyjWMaiRYswMDDQ1Dh6RNTQ/IwxWJaF7u5uIDgysGDBAixevLih8hB00MtO758oEIFP5TH0/q/APTCM3ne/ApnTVoNsF5T3L40p3qQkwb87HsiR32kMkeahKIYJY+PZyFgWzNwUrI1nwXvzP4Gecyko0+HffBJYq+UhI1J+FhyrJXfHV8xDERhjoM4+4KyXIwsXGBsEO/8KeC95M9DRW7kTGiHecvTd8U1AAOUdjHzoG3B2HkHvu1+B7FkbAMcD5QoABe2ywvbKPQ7DDE5j1wFjDF1dXWW5bsmSJcWnE9VbXghxP9fVOz9jDOl0Gj09PfA8D7ZtY+HChRgY6Idh1F9eEQKYwlkOTXO012D1BDj7hjH4p58Fn87D6MpE7kA10PfuS9D1qvOlp+WpymD1UaTJHv6Ohnku4AX3lJoWyPQHNqdYpzPeGQ3rinoA4ORGB6sPIQK4B+Y5ADNAVrpiQqnFiTJYPc0WMPqxGzH760f9Hy1d2WIiSa1bgkWfehdYR+XvXyjkkck09pjM6OkpBMmx4QQYlMM9D2a161gVIPJvWmg2Hs/zwAyjqadKHZNwgrNvDEff9gmQ6/mjLqRM/3rIzgwW/subkD5jXXwuIFj20cd21gvjHuA6APdAhgFYGcAQH/9ZLQ+FPhY8tvNFjQ5WX4T80/Gc+3nSqNzRqYUerL4JOMHZeRSDf/EF8Jk8jM4MkLLADAaWstD//ivR8bJnS/eXAOC4LqwGOn0hYV5BQrnOdV1YVnOnz5PKdWE5jY5dqlGnvTqhAPjYDKZ/fI//6DHG/I4YABgMHS88DenT10ivwQo7oW+94yBuyXVLT39F3xsVTpHJ3lPsSIHME30fvjb8xKQ5oNgJvepMdGcrd8KOdch2kfvd03B2HvLXRKR5m4t60fXq51U5akXI5XLo6GjiGs4EISJ4rgurwSOzSeO6HgzDv9nqhIIIfGwWU9f/PnhYRAmWSaHz0nP88RglEBFu2jaId29mGA06obKcofK+Wh6Kfo6/RulKpBOaHLoT2gRE8EamMf3T+wDXLV/ZKROdLz0dqU3LKz5S1XGcpjt9SUHBdaapVKpt4uGcN3zWSKNO23VCwQnEuZhFgzvwZB1QBI0m3gkNi5Al5TCh8yqeYtmBjgrT44TlNtsJValL1WOeIJ1QkH9jG1H81uHg1IphlFZmDCLC9PQMenr8U9jzDQ9uJmqXxOy6LgzDOPE6oQBA5D9tK76xKeSlm7YN4k83M4x75ddwokV5KEpnA4/tVKlLxSNDd0KbJGyXiK0AFsl3FSgUCk1dw5kkRATbttsqHt0JbQ2VW+h8YTD/NGrKLL0G7ysl+krE3bFttCypVyPqqTZPWGY88cuoVIamSRgA0yhvO8EfzMod0JCKQ4zMB0QNDyg9F1CDN20dF7BIXor+NZCXquWhams7nocqEZYpbcmxGeuLvDlaWdcJQ9gu423TMqt2QBF0tNqJRm8KnSvabfkcr1RppSorQMWTBCr1yD0kSfrR15BKnlAP34d3K8fLic4f98hQuetZZRuo7ZEMVi9QdWKAiicJVOpR8TSG60afM6NST1IeOfWNW6pST+MeHrkGLBlUylLxtAqVWOQeik2R5Zg48RwTvvfL8oeSi3vKy6pUcgmV9VnbojgQvYKnNiqeJFCpR8WTBCr11O9xXdnDBZKg/lggjUf0zA3yesq3DbkneVTqScqTBCr1VPdU6YRW60KFqHiSQKWeck88OUffU/AnmxYSesIFFL6vNARsuHMIPeHnysjLKUPBUtsjGaxeQCrGUPEkgUo9Kp7GKH9ikko9SXnkqHQSSqjUk5QnCVTqUfG0CpVY5J5oog0d8RwTnRYnOk80D8VbB5Pkoeg0oQKVU581LRUGCS9D0VMTFU8SqNSj4kkClXrq98TbTnLUHwukR0JFz9ygUo+KJwlU6knKkwQq9VT3VOmEllBprEl5kiBM7izy9Vks6Uc94Tzx9zJPSDgt1OKe6HzVUFkB0XIqlSn1RAKuNF8jRJdDJVQ8SaBSTz0ea46vAaonFgAwmEoLmTvi8cqu14p75gqVepLyJIGsHpUcE88l0evbo3r0NZwu80TrAeJPTfKppyMcf18JlTwU/xwiW3ZxkvIkgUo9SXmSgICao1y0KpaQateaq8Si4qmHSgecVOpJypMEKvWoeOaKyms9gnxVlJOUp1n8hek/fZkiCbw0rXQTAEX+wukUmeaXU+4JfazoEz1RbyUlpPTbr9wTXVbxukNET/T/ckNRqxyKMirrUcWTBCr11OPxL0RPYCFVoJ5YgPkfp64slgo7LbmaPCr1JOVJgrAeFstD0fyDSO6Ify7FKeaYEFYsi4p1hPNGyws9AIHFC4nloejk6LKK6pU8Pv7UoidiKM0X88QQyxRJypMEKvUk5UkCBsCo8YO7VbGEWFWGolOJRcVTFxUKrCCXkZQnCVTqUfHMFUqd0GMN/zSU/zsmXLhhkqXiqarSX6hH/xhQ9rz5Ugov/SHwyBZieXKtvIpLU8o91ZO8j5jAo84KEVQqTAMAwSMt22chtdPdmdWOVGiq4482XMpDPMhD0VyEWH4JvY3koVCnSNmlrCjSqjxUolJpmlZhttn23E65Dqj8o1uTLO3VChMgnv7CJBwmfCOWvMPpUU90fhSPXPjpu5Inmuyj9dQiKY9I5Z2JpjLNDgyfNO3U8WMs7DJp6sHf9srzh0oeCpd0OK3ZPFRtzankBxWPSLVaNfNJu3X62i0e3QltDe2zh5sDwmTNIglflpCjyT6aaGUexBJ+SLgDCWksYbeAtg2sDWBszq8JrYfwqR/tkgwZU7uPRSMS5odG85DMX28eotg0zYlNu+SVkHb6wa1pHe03WH2DEBFmCg7eecd+3JbrEpJ2ePorev9dmNyjyT965CCcFk/eUS28vkvGJj6B6aNDOOyYoOIJOZ9oGZVWQDwWGfHvJIMBMEF4wyoL/3PlWeg6ngerbwKKPLWjHSgNmBw9LjZ/hM+O1zsLdYgIv9h2BH+5mTARDFYfbrPxHCDLMZBMq5fo/Fly8cKp3fjduAU7cnI+rCtaT6hFc0ylfBXNVajgkc27IG3gtitW4tR1K2NTNHNN+PCJduiMhrmuXeJBEJPOdXNPqRMqyXSCJAjzSCwWAsFxOR7cO4hRN0j2zLcRBUdwxIfoFIm3++I8RSGSqKP1UhBGvHwGdHAHruPCrtBLZMFTJePJWVpencjKXNZl4Zx1y5EyTWE9CqtWEOYRSSyCJAgNQMBsbhaWZRWTT9mRSKLiWJmhxhgrG0aJImNpRsuITg8plhGEH503rIN7HKZllj3B1h8jsnSUlDFWHN4kTObR+ELimzoLEr5fVmleWYwIOqFz/vQmyXoUJEGYRySxxKX9IxN4ejQPm5dyh+ynv2yxxn1hW0HEH3pYMAqS7PkGodcgQsaZRc4zyn+QBwVLZi0SbYNlevBffFo01kpkTIbnrhrAwv5eQLLsRGEekcQikdoHSXBRqVAowIw9O74s/xjhVcSseLtamKPC/CTPg34t4TTDMMrmIyo/dBP6PM8reqO5LfwL85NfhR9RWS4i+DfoBZ1ZADAM//RN+HOLiIOolF8RK6OY/4hgpVJlnVDJ4mwfJMFJpNYgqViQIsJxcyQUwfcSMuG8ICzytkHegWjfeOcXleWSlCcJVOpJyqNRZf5S7LGzHuV5SaNOO61rlViS8tRCpQwVj2auOK46oRqNRqPRaDSaYwOlCx5UeqlJeZJApZ6kPEmgUo+Kp1WoxKLiSQKVepLyJIFKPSqeVqESi4onCVTqScqTBCr1qHhahUosKp4kUKknKU8SqNSTlCcJVOpR8SSBSj1JeZJApZ6kPEmgUo+KZ67QR0I1Go1Go9FoNC1H6UioRqPRaDQajUaTJLoTqtFoNBqNRqNpOboTqtFoNBqNRqNpOboTqtFoNBqNRqNpOeUjscYQJEGQSILQAJIyBEkQJJIgSCRBaABJGYIkCBJJEKRS3QhlCIJEEgSJJAgNIClDkARBIgmCRBKEBpCUIUiCIJEEQSo1j6RQQRIEiSQIDSApQ5AEQSIJgkQShAaQlCFIgiCRBEEqNY+kUEESBIkkCA0gKUOQBEEiCYJEEoQGkJQhSIIgkQRBKjWPpFBBEgSJJAgNIClDkARBIgmCRBKEBpCUIUiCIJEEQSo1j6RQQRIEiSQIUqk6KjNIPIIUEfTd8RqNRqPRaDSalqNPx2s0Go1Go9FoWo7uhGo0muMGfVpHo9Fojh10J1Sj0Rw36CdAazQazbGD7oRqNBqNRqPRaFqO7oRqNBqNRqPRaFqO7oRqNBqNRqPRaFqO7oRqNBqNRqPRaFpOlcHqSSYJCJIgNIBQhkosKh4JKp5aCGWoxSJIgpAEkkIFaR7jFcpQiUXFI5EEoQGEMlRiUfHMEUI9arEIkiA0gFCGIEik9opXIgmCRGoNQj1qsQiSIDSAUIYgSKT2ilciCYJEEpBIzSMUqhKLiqcBVMoQPGqxCJIgNIBQhkosKh6p1DxCoSqxqHgaQKUMwVM9Fj1YvUaj0Wg0Go2m5ejT8RqNRqPRaDSalqM7oRqNRqPRaDSalqM7oRqNRqPRaDSalqM7oRqNRqPRaDSalqM7oRqNRqPRaDSalqM7oRqNRqPRaDSalqM7oRqNRqPRaDSallOlE6oyfKiKJwlU6lHxJIFKPUl5kkClnqQ8SaBSj4onCVTqScqTBCr1JOVJApV6VDytQiUWFU8SqNSTlCcJVOpJypMEKvWoeJJApZ6kPEmgUk9SniRQqUfFkwQq9STlSQKVeqp79GD1Go1Go9FoNJqW8/8D6z96CgmoywAAAAAASUVORK5CYII=)"
      ],
      "metadata": {
        "id": "rNEjuByRKDNF"
      }
    },
    {
      "cell_type": "code",
      "source": [
        "data = np.array([[1, 2], [3, 4], [5, 6]])\n",
        "ones_row = np.array([[1, 1]])\n",
        "data + ones_row"
      ],
      "metadata": {
        "colab": {
          "base_uri": "https://localhost:8080/"
        },
        "id": "TxW5m03SJnEA",
        "outputId": "2c2c136b-0bcf-4de4-e875-57d682cf1899"
      },
      "execution_count": 65,
      "outputs": [
        {
          "output_type": "execute_result",
          "data": {
            "text/plain": [
              "array([[2, 3],\n",
              "       [4, 5],\n",
              "       [6, 7]])"
            ]
          },
          "metadata": {},
          "execution_count": 65
        }
      ]
    },
    {
      "cell_type": "code",
      "source": [
        "from numpy.random import default_rng\n",
        "rng = default_rng()\n",
        "\n",
        "print(rng.integers(1, 10, size=5))     # [2 5 9 3 6]\n",
        "print(rng.random(3))                   # [0.44 0.82 0.12]\n",
        "print(rng.choice([1, 2, 3], size=2))   # [2 1]\n",
        "rng = default_rng(42)\n",
        "print(rng.integers(0, 100, 3))  # Always same output for same seed\n",
        "print(rng.integers(0, 100, 3))\n",
        "print(rng.integers(0, 100, 3))"
      ],
      "metadata": {
        "colab": {
          "base_uri": "https://localhost:8080/"
        },
        "id": "jEORmwU2KuyB",
        "outputId": "cca3a4f9-9b7d-4158-f77c-bdf13fe572fa"
      },
      "execution_count": 67,
      "outputs": [
        {
          "output_type": "stream",
          "name": "stdout",
          "text": [
            "[5 2 5 4 9]\n",
            "[0.41241496 0.68034682 0.47067879]\n",
            "[3 3]\n",
            "[ 8 77 65]\n",
            "[43 43 85]\n",
            "[ 8 69 20]\n"
          ]
        }
      ]
    },
    {
      "cell_type": "code",
      "source": [
        "#extract unique items\n",
        "a = np.array([11, 11, 12, 13, 14, 15, 16, 17, 12, 13, 11, 14, 18, 19, 20]).reshape(3,5)\n",
        "print(a) #2d array\n",
        "\n",
        "uni = np.unique(a)#1d array of unique values of a\n",
        "print(uni)"
      ],
      "metadata": {
        "colab": {
          "base_uri": "https://localhost:8080/"
        },
        "id": "pm2ik6_fLUC6",
        "outputId": "7e513262-6183-412d-ad78-9b60a0da08cb"
      },
      "execution_count": 70,
      "outputs": [
        {
          "output_type": "stream",
          "name": "stdout",
          "text": [
            "[[11 11 12 13 14]\n",
            " [15 16 17 12 13]\n",
            " [11 14 18 19 20]]\n",
            "[11 12 13 14 15 16 17 18 19 20]\n"
          ]
        }
      ]
    },
    {
      "cell_type": "code",
      "source": [
        "unique_values, indices_list = np.unique(a, return_index=True)\n",
        "print(indices_list)\n",
        "print(unique_values)\n",
        "\n",
        "print()\n",
        "\n",
        "print(a.flatten()[indices_list])  # ✅ correct way to access"
      ],
      "metadata": {
        "colab": {
          "base_uri": "https://localhost:8080/"
        },
        "id": "BAs9O9L8NxHf",
        "outputId": "667470a7-a578-4b67-b3d4-16345ef00d50"
      },
      "execution_count": 74,
      "outputs": [
        {
          "output_type": "stream",
          "name": "stdout",
          "text": [
            "[ 0  2  3  4  5  6  7 12 13 14]\n",
            "[11 12 13 14 15 16 17 18 19 20]\n",
            "\n",
            "[11 12 13 14 15 16 17 18 19 20]\n"
          ]
        }
      ]
    },
    {
      "cell_type": "code",
      "source": [
        "unique_values, occurrence_count = np.unique(a, return_counts=True)\n",
        "print(unique_values)\n",
        "print(occurrence_count)"
      ],
      "metadata": {
        "colab": {
          "base_uri": "https://localhost:8080/"
        },
        "id": "2Xj3zH0FORj5",
        "outputId": "9d279419-1043-46d9-9313-8d1dbf5084dc"
      },
      "execution_count": 76,
      "outputs": [
        {
          "output_type": "stream",
          "name": "stdout",
          "text": [
            "[11 12 13 14 15 16 17 18 19 20]\n",
            "[3 2 2 2 1 1 1 1 1 1]\n"
          ]
        }
      ]
    },
    {
      "cell_type": "code",
      "source": [
        "a_2d = np.array([[1, 2, 3, 4], [5, 6, 7, 8], [9, 10, 11, 12], [1, 2, 3, 4]])\n",
        "unique_rows = np.unique(a_2d, axis=0)\n",
        "print(unique_rows)\n",
        "\n",
        "unique_rows, indices, occurrence_count = np.unique(\n",
        "     a_2d, axis=0, return_counts=True, return_index=True)\n",
        "print(unique_rows) #print all unique rows\n",
        "print(indices)#print indices of unique rows\n",
        "print(occurrence_count)#counto of occurence of unique rows"
      ],
      "metadata": {
        "colab": {
          "base_uri": "https://localhost:8080/"
        },
        "id": "NNUHsP6FOzW-",
        "outputId": "727b3bae-c7c7-4f51-81b5-3c0a3d330b78"
      },
      "execution_count": 77,
      "outputs": [
        {
          "output_type": "stream",
          "name": "stdout",
          "text": [
            "[[ 1  2  3  4]\n",
            " [ 5  6  7  8]\n",
            " [ 9 10 11 12]]\n",
            "[[ 1  2  3  4]\n",
            " [ 5  6  7  8]\n",
            " [ 9 10 11 12]]\n",
            "[0 1 2]\n",
            "[2 1 1]\n"
          ]
        }
      ]
    },
    {
      "cell_type": "code",
      "source": [
        "arr = np.arange(6).reshape((2, 3))\n",
        "arr.transpose()\n",
        "# arr.T #both are same\n"
      ],
      "metadata": {
        "colab": {
          "base_uri": "https://localhost:8080/"
        },
        "id": "utWs24l_PZFf",
        "outputId": "9b138bc9-8701-4886-a451-6e00893377a2"
      },
      "execution_count": 78,
      "outputs": [
        {
          "output_type": "execute_result",
          "data": {
            "text/plain": [
              "array([[0, 3],\n",
              "       [1, 4],\n",
              "       [2, 5]])"
            ]
          },
          "metadata": {},
          "execution_count": 78
        }
      ]
    },
    {
      "cell_type": "code",
      "source": [],
      "metadata": {
        "id": "xqQtV55qPpq6"
      },
      "execution_count": null,
      "outputs": []
    }
  ]
}